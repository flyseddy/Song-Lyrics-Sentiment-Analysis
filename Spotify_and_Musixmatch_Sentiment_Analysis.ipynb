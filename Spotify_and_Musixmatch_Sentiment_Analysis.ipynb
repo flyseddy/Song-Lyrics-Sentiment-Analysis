{
  "nbformat": 4,
  "nbformat_minor": 0,
  "metadata": {
    "colab": {
      "provenance": []
    },
    "kernelspec": {
      "name": "python3",
      "display_name": "Python 3"
    },
    "language_info": {
      "name": "python"
    }
  },
  "cells": [
    {
      "cell_type": "markdown",
      "source": [
        "Sentiment Analysis of Song Lyrics\n",
        "\n",
        "Author: Sedrick Thomas\n",
        "\n",
        "Notebook Abstract: Uncover patterns in your listening history using sentiment analysis and find artists who might post more positive or negative music\n",
        "🎵\n",
        "\n",
        "---"
      ],
      "metadata": {
        "id": "EWPNMovbmd8f"
      }
    },
    {
      "cell_type": "code",
      "execution_count": null,
      "metadata": {
        "id": "WkwTnk-srQHV"
      },
      "outputs": [],
      "source": [
        "import requests\n",
        "from urllib.parse import urlencode\n",
        "import base64"
      ]
    },
    {
      "cell_type": "code",
      "source": [
        "client_id = \"\" # Enter your own client_id from spotify\n",
        "client_secret = \"\" # Enter your own client_secret from spotify\n",
        "\n",
        "auth_headers = {\n",
        "    \"client_id\": client_id,\n",
        "    \"response_type\": \"code\",\n",
        "    \"redirect_uri\": \"http://localhost:7777/callback\",\n",
        "    \"scope\": \"user-library-read\"\n",
        "}"
      ],
      "metadata": {
        "id": "q-2SLdl2PA7s"
      },
      "execution_count": null,
      "outputs": []
    },
    {
      "cell_type": "code",
      "source": [
        "url = \"https://accounts.spotify.com/authorize?\" + urlencode(auth_headers)"
      ],
      "metadata": {
        "id": "s78EoOK7Q9BC"
      },
      "execution_count": null,
      "outputs": []
    },
    {
      "cell_type": "code",
      "source": [
        "url"
      ],
      "metadata": {
        "colab": {
          "base_uri": "https://localhost:8080/",
          "height": 52
        },
        "id": "guNrDw2NsW2f",
        "outputId": "035c8c46-a91d-46fc-d760-1c3bfb73c845"
      },
      "execution_count": null,
      "outputs": [
        {
          "output_type": "execute_result",
          "data": {
            "text/plain": [
              "'https://accounts.spotify.com/authorize?client_id=39ca199e2bf04a0e83549920f4a2835f&response_type=code&redirect_uri=http%3A%2F%2Flocalhost%3A7777%2Fcallback&scope=user-library-read'"
            ],
            "application/vnd.google.colaboratory.intrinsic+json": {
              "type": "string"
            }
          },
          "metadata": {},
          "execution_count": 203
        }
      ]
    },
    {
      "cell_type": "code",
      "source": [
        "code = '' # Copy and Paste the URL above into your browser and hit enter. It should redirect you and a new url will be shown. Copy the part of url that says code and paste it here"
      ],
      "metadata": {
        "id": "0XzS9-WvSvzV"
      },
      "execution_count": null,
      "outputs": []
    },
    {
      "cell_type": "markdown",
      "source": [
        "# Obtaining our Authorization Token"
      ],
      "metadata": {
        "id": "mGfEaeVHTB6j"
      }
    },
    {
      "cell_type": "code",
      "source": [
        "encoded_credentials = base64.b64encode(client_id.encode() + b':' + client_secret.encode()).decode(\"utf-8\")"
      ],
      "metadata": {
        "id": "yuAEPTSXTANP"
      },
      "execution_count": null,
      "outputs": []
    },
    {
      "cell_type": "code",
      "source": [
        "token_headers = {\n",
        "    \"Authorization\": \"Basic \" + encoded_credentials,\n",
        "    \"Content-Type\": \"application/x-www-form-urlencoded\"\n",
        "}\n",
        "token_data = {\n",
        "    \"grant_type\": \"authorization_code\",\n",
        "    \"code\": code,\n",
        "    \"redirect_uri\": \"http://localhost:7777/callback\"\n",
        "}\n",
        "\n",
        "r = requests.post(\"https://accounts.spotify.com/api/token\", data=token_data, headers=token_headers)"
      ],
      "metadata": {
        "id": "04NfcELBTn-q"
      },
      "execution_count": null,
      "outputs": []
    },
    {
      "cell_type": "code",
      "source": [
        "r.status_code"
      ],
      "metadata": {
        "colab": {
          "base_uri": "https://localhost:8080/"
        },
        "id": "eMSFCVJGUNzY",
        "outputId": "ac5d91ee-fc33-4cdc-a8bd-21805858b840"
      },
      "execution_count": null,
      "outputs": [
        {
          "output_type": "execute_result",
          "data": {
            "text/plain": [
              "200"
            ]
          },
          "metadata": {},
          "execution_count": 207
        }
      ]
    },
    {
      "cell_type": "code",
      "source": [
        "token = r.json()[\"access_token\"]"
      ],
      "metadata": {
        "id": "Cy3K1tHaURp7"
      },
      "execution_count": null,
      "outputs": []
    },
    {
      "cell_type": "markdown",
      "source": [
        "Making a Request to Spotify's Track Endpoint"
      ],
      "metadata": {
        "id": "Yi3PtEwdU69b"
      }
    },
    {
      "cell_type": "code",
      "source": [
        "max_songs = 200 # Change this value if you don't have 1,000 songs in your Liked Songs. Only enter in values in multiples of 50s e.g. 50, 100, 1000"
      ],
      "metadata": {
        "id": "ta3-NDYnAZc8"
      },
      "execution_count": null,
      "outputs": []
    },
    {
      "cell_type": "code",
      "source": [
        "user_headers = {\n",
        "    \"Authorization\": \"Bearer \" + token,\n",
        "    \"Content-Type\": \"application/json\"\n",
        "}\n",
        "user_params = {\n",
        "    \"limit\": 50\n",
        "}"
      ],
      "metadata": {
        "id": "bUSlQzgQAtO8"
      },
      "execution_count": null,
      "outputs": []
    },
    {
      "cell_type": "code",
      "source": [
        "iterations = max_songs // 50"
      ],
      "metadata": {
        "id": "EhqX4XyNBSrG"
      },
      "execution_count": null,
      "outputs": []
    },
    {
      "cell_type": "code",
      "source": [
        "def get_list_of_songs(iterations, params, headers):\n",
        "  \"\"\"Retrieves list of songs in multiples of 50 due to API restrictions\"\"\"\n",
        "  offset = 0 \n",
        "  list_of_songs_json = []\n",
        "  playlist_data = []\n",
        "  for i in range(iterations):\n",
        "    user_tracks_response = requests.get(f\"https://api.spotify.com/v1/me/tracks?offset={offset}\", params=user_params, headers=user_headers)\n",
        "    list_of_songs_json.append(user_tracks_response.json())\n",
        "    offset += 50\n",
        "\n",
        "  for i in range(iterations):\n",
        "    for y in range(len(list_of_songs_json[i]['items'])):\n",
        "      song = list_of_songs_json[i]['items'][y]['track']['name'] # grabs song item \n",
        "      artist = list_of_songs_json[i]['items'][y]['track']['artists'][0]['name'] \n",
        "      date_added = list_of_songs_json[i]['items'][y]['added_at']\n",
        "      playlist_data.append([song, artist, date_added])\n",
        "\n",
        "  return playlist_data"
      ],
      "metadata": {
        "id": "EZOcnwUcj0D4"
      },
      "execution_count": null,
      "outputs": []
    },
    {
      "cell_type": "code",
      "source": [
        "playlist = get_list_of_songs(iterations, user_params, user_headers) # Call method to get list of songs"
      ],
      "metadata": {
        "id": "4tlM1wQHlaDH"
      },
      "execution_count": null,
      "outputs": []
    },
    {
      "cell_type": "code",
      "source": [
        "len(playlist)"
      ],
      "metadata": {
        "colab": {
          "base_uri": "https://localhost:8080/"
        },
        "id": "88SAbQh6ljm2",
        "outputId": "01e0709d-5a41-4472-d9b7-d49a3e7c3558"
      },
      "execution_count": null,
      "outputs": [
        {
          "output_type": "execute_result",
          "data": {
            "text/plain": [
              "200"
            ]
          },
          "metadata": {},
          "execution_count": 212
        }
      ]
    },
    {
      "cell_type": "code",
      "source": [
        "playlist"
      ],
      "metadata": {
        "colab": {
          "base_uri": "https://localhost:8080/"
        },
        "id": "aUsroY9hlmCg",
        "outputId": "447c8d1a-1d74-4366-e908-0e3cef66b44e"
      },
      "execution_count": null,
      "outputs": [
        {
          "output_type": "execute_result",
          "data": {
            "text/plain": [
              "[['You Up?', 'Johan Lenox', '2023-02-12T15:29:35Z'],\n",
              " ['SKELETONS', 'Travis Scott', '2023-02-10T06:16:53Z'],\n",
              " ['So You Can Cry', 'Ne-Yo', '2023-02-07T16:34:15Z'],\n",
              " ['Baby', 'Summer Walker', '2023-02-06T17:01:18Z'],\n",
              " ['Tangled Up in You', 'The Altons', '2023-02-05T16:24:40Z'],\n",
              " [\"THAT'S MY GIRL\", 'Frank Sativa', '2023-02-05T16:16:37Z'],\n",
              " ['Come Home Soon', '00pium !*', '2023-02-05T16:12:44Z'],\n",
              " [\"A Bird's Last Look\", 'Macabre Plaza', '2023-02-05T16:03:02Z'],\n",
              " ['Perdido de Amor [Lost in Love]', 'Luiz Bonfá', '2023-02-05T15:54:03Z'],\n",
              " [\"Jennah's Interlude\", 'Blue Iverson', '2023-02-05T15:53:19Z'],\n",
              " ['Beautiful People', 'Chris Brown', '2023-02-04T14:25:04Z'],\n",
              " ['3005', 'Childish Gambino', '2023-02-03T19:52:55Z'],\n",
              " ['A Love of Your Own', 'Average White Band', '2023-02-03T16:49:20Z'],\n",
              " ['Views', 'Drake', '2023-02-02T18:05:16Z'],\n",
              " ['Coming Down', 'The Weeknd', '2023-01-31T05:06:20Z'],\n",
              " ['Somebody Else', 'The 1975', '2023-01-31T03:38:53Z'],\n",
              " [\"i don't wanna fall in love, it's too late now\",\n",
              "  'Chase Shakur',\n",
              "  '2023-01-30T13:47:55Z'],\n",
              " ['La Vida Es Fría', 'Jason Joshua', '2023-01-27T14:16:14Z'],\n",
              " ['Not You Too (feat. Chris Brown)', 'Drake', '2023-01-27T04:41:23Z'],\n",
              " ['30/90', 'Andrew Garfield', '2023-01-27T01:33:04Z'],\n",
              " ['Crazy Tings', 'Tems', '2023-01-25T02:37:51Z'],\n",
              " ['Trance (with Travis Scott & Young Thug)',\n",
              "  'Metro Boomin',\n",
              "  '2023-01-24T16:07:39Z'],\n",
              " ['Missin Out', 'Brent Faiyaz', '2023-01-23T19:28:52Z'],\n",
              " ['Demonz (feat. Brent Faiyaz) - Interlude',\n",
              "  'Juice WRLD',\n",
              "  '2023-01-23T16:48:22Z'],\n",
              " ['Crowns for Kings (Feat. Black Thought)',\n",
              "  'Benny The Butcher',\n",
              "  '2023-01-22T16:53:07Z'],\n",
              " ['Fire And Desire', 'Rick James', '2023-01-21T06:31:12Z'],\n",
              " [\"I Can't Stop Loving You\", 'Kem', '2023-01-21T05:08:07Z'],\n",
              " [\"She Ain't You\", 'Chris Brown', '2023-01-21T03:51:31Z'],\n",
              " ['Break from Toronto', 'PARTYNEXTDOOR', '2023-01-20T20:16:17Z'],\n",
              " ['Whoopy', 'Westside Gunn', '2023-01-20T20:13:16Z'],\n",
              " ['Get It Together', '702', '2023-01-20T02:03:48Z'],\n",
              " ['My Way - 2008 Remastered', 'Frank Sinatra', '2023-01-19T22:09:20Z'],\n",
              " [\"Yes. I'm Ready\", 'Barbara Mason', '2023-01-19T18:01:14Z'],\n",
              " [\"There's Nothing I Can Do About It\",\n",
              "  'Mike James Kirkland',\n",
              "  '2023-01-19T16:57:49Z'],\n",
              " ['Issues/Hold On', 'Teyana Taylor', '2023-01-16T14:34:17Z'],\n",
              " [\"It's A Wrap\", 'Mariah Carey', '2023-01-16T14:13:11Z'],\n",
              " ['Berceuse', 'Chester Reign', '2023-01-13T00:44:22Z'],\n",
              " ['The Less I Know The Better', 'Tame Impala', '2023-01-12T19:15:25Z'],\n",
              " ['Gonna Love Me', 'Teyana Taylor', '2023-01-10T02:31:31Z'],\n",
              " ['You Make Me Feel Brand New', 'The Stylistics', '2023-01-08T17:32:32Z'],\n",
              " ['Senior Skip Day', 'Mac Miller', '2023-01-08T07:01:03Z'],\n",
              " [\"Together Let's Find Love - Digitally Remastered 1997\",\n",
              "  'The 5th Dimension',\n",
              "  '2023-01-05T17:40:32Z'],\n",
              " ['Burn One (Interlude)', 'Brent Faiyaz', '2023-01-04T06:08:06Z'],\n",
              " ['Giving Up On Love', 'Thee Midniters', '2023-01-02T21:00:49Z'],\n",
              " [\"I'd Rather Go Blind\", 'Etta James', '2022-12-28T20:14:59Z'],\n",
              " ['Why I Love You So Much', 'Monica', '2022-12-26T21:46:31Z'],\n",
              " ['Philadelphia Morning', 'Movie Sounds Unlimited', '2022-12-22T21:28:46Z'],\n",
              " ['Do or Die (feat. Liana Banks)', 'lilbootycall', '2022-12-21T18:28:46Z'],\n",
              " ['Jungle', 'Drake', '2022-12-21T12:41:42Z'],\n",
              " ['Right and a Wrong Way', 'Keith Sweat', '2022-12-21T04:36:47Z'],\n",
              " ['Your Love Is King', 'Sade', '2022-12-21T04:34:54Z'],\n",
              " ['Knock Knock', 'Monica', '2022-12-21T04:33:40Z'],\n",
              " [\"I'm on Fire\", 'Nas', '2022-12-21T04:32:30Z'],\n",
              " ['Feel The Fiyaaaah (with A$AP Rocky & feat. Takeoff)',\n",
              "  'Metro Boomin',\n",
              "  '2022-12-21T04:30:37Z'],\n",
              " ['Thinking out Loud', 'Ed Sheeran', '2022-12-19T21:47:56Z'],\n",
              " ['Traffic In The Sky', 'Jack Johnson', '2022-12-19T04:44:00Z'],\n",
              " [\"If You Think You're Lonely Now\", 'Bobby Womack', '2022-12-19T02:39:36Z'],\n",
              " ['Lead the Way', 'Mariah Carey', '2022-12-19T00:07:47Z'],\n",
              " [\"Don't Be Cruel\", 'Bobby Brown', '2022-12-17T15:35:39Z'],\n",
              " ['Red Red Wine', 'UB40', '2022-12-17T01:54:24Z'],\n",
              " ['profile', 'Kinrose', '2022-12-16T02:23:46Z'],\n",
              " ['Love U', 'Westside Gunn', '2022-12-15T22:04:23Z'],\n",
              " ['Like a Tattoo', 'Sade', '2022-12-14T23:15:09Z'],\n",
              " ['Parado no Bailão', 'MC L da Vinte', '2022-12-14T01:12:19Z'],\n",
              " ['Sounds Like a Love Song', 'Bobby Glenn', '2022-12-13T07:04:11Z'],\n",
              " ['One Day In Your Life', 'Michael Jackson', '2022-12-11T19:46:30Z'],\n",
              " [\"Forgiveless (feat. Ol' Dirty Bastard)\", 'SZA', '2022-12-09T18:10:22Z'],\n",
              " ['Open Arms (feat. Travis Scott)', 'SZA', '2022-12-09T18:07:15Z'],\n",
              " ['Far', 'SZA', '2022-12-09T18:02:40Z'],\n",
              " ['Too Late', 'SZA', '2022-12-09T17:59:48Z'],\n",
              " ['Nobody Gets Me', 'SZA', '2022-12-09T17:56:10Z'],\n",
              " ['Smoking on my Ex Pack', 'SZA', '2022-12-09T17:48:27Z'],\n",
              " ['Notice Me', 'SZA', '2022-12-09T17:37:17Z'],\n",
              " ['Snooze', 'SZA', '2022-12-09T17:33:59Z'],\n",
              " ['Used (feat. Don Toliver)', 'SZA', '2022-12-09T17:31:28Z'],\n",
              " ['Blind', 'SZA', '2022-12-09T17:28:14Z'],\n",
              " ['Seek & Destroy', 'SZA', '2022-12-09T17:20:33Z'],\n",
              " ['Kill Bill', 'SZA', '2022-12-09T17:18:26Z'],\n",
              " ['SOS', 'SZA', '2022-12-09T17:17:07Z'],\n",
              " ['Just To Keep You Satisfied', 'The Monitors', '2022-12-08T17:21:49Z'],\n",
              " ['Someday At Christmas', 'Stevie Wonder', '2022-12-06T00:38:31Z'],\n",
              " ['What Do The Lonely Do At Christmas?',\n",
              "  'The Emotions',\n",
              "  '2022-12-05T14:49:58Z'],\n",
              " ['The Makings of You', 'Curtis Mayfield', '2022-12-04T21:57:50Z'],\n",
              " ['Me and Your Mama', 'Childish Gambino', '2022-12-04T02:45:45Z'],\n",
              " ['Another Again', 'John Legend', '2022-12-03T02:55:09Z'],\n",
              " [\"Creepin' (with The Weeknd & 21 Savage)\",\n",
              "  'Metro Boomin',\n",
              "  '2022-12-02T15:22:49Z'],\n",
              " [\"Could've Been (feat. Bryson Tiller)\", 'H.E.R.', '2022-12-02T05:38:30Z'],\n",
              " [\"Darlin' Darlin' Baby (Sweet, Tender, Love)\",\n",
              "  \"The O'Jays\",\n",
              "  '2022-12-01T17:16:25Z'],\n",
              " ['Too Many Tears', 'Durand Jones & The Indications', '2022-11-27T15:06:10Z'],\n",
              " ['Tighten Up, Pt. 1', 'Archie Bell & The Drells', '2022-11-26T20:34:24Z'],\n",
              " ['Eyes Without A Face', 'Billy Idol', '2022-11-23T16:08:08Z'],\n",
              " ['Midnight Pretenders', 'Tomoko Aran', '2022-11-21T15:46:49Z'],\n",
              " ['Talk 2 U', 'Brent Faiyaz', '2022-11-20T18:25:17Z'],\n",
              " ['Loose', 'Daniel Caesar', '2022-11-20T18:08:17Z'],\n",
              " [\"Didn't Cha Know\", 'Erykah Badu', '2022-11-17T20:14:12Z'],\n",
              " ['The Party & The After Party', 'The Weeknd', '2022-11-16T15:14:21Z'],\n",
              " ['La Vida', 'Snow Tha Product', '2022-11-14T20:41:49Z'],\n",
              " ['kometostai.aintreallynootherwaytoputitro',\n",
              "  'Knxwledge',\n",
              "  '2022-11-11T17:04:59Z'],\n",
              " ['Sandstorm (feat. JID)', 'Mereba', '2022-11-10T15:50:39Z'],\n",
              " ['egyptian pools', 'JUICEB☮X', '2022-11-07T20:56:59Z'],\n",
              " ['Major Distribution', 'Drake', '2022-11-07T15:21:01Z'],\n",
              " [\"Can't Wait\", 'SugarHill Keem', '2022-11-06T17:02:44Z'],\n",
              " ['El Baile del Beeper - Version Mexico',\n",
              "  'Oro Solido',\n",
              "  '2022-11-06T16:30:24Z'],\n",
              " ['Superwoman (Where Were You When I Needed You)',\n",
              "  'Stevie Wonder',\n",
              "  '2022-11-06T01:41:16Z'],\n",
              " ['Respect the Game', 'Meek Mill', '2022-11-04T14:50:48Z'],\n",
              " ['I Guess It’s Fuck Me', 'Drake', '2022-11-04T04:31:36Z'],\n",
              " ['Middle of the Ocean', 'Drake', '2022-11-04T04:30:37Z'],\n",
              " ['Pussy & Millions (feat. Travis Scott)', 'Drake', '2022-11-04T04:30:10Z'],\n",
              " ['90 Proof (with J. Cole)', 'Smino', '2022-11-04T00:40:31Z'],\n",
              " ['Sexy Boy (Shawn Michaels)', 'WWE', '2022-11-03T03:41:11Z'],\n",
              " ['P.S. I LOVE YOU', 'Paul Partohap', '2022-11-02T03:45:39Z'],\n",
              " ['Everybody', 'The Jacksons', '2022-10-31T13:20:36Z'],\n",
              " ['Am I Losing You', 'The Manhattans', '2022-10-28T18:41:57Z'],\n",
              " ['Nobody But You', 'Sonder', '2022-10-28T16:45:06Z'],\n",
              " ['Lost in the Fire (feat. The Weeknd)',\n",
              "  'Gesaffelstein',\n",
              "  '2022-10-28T16:00:58Z'],\n",
              " ['Mr Valentine', 'YAZ', '2022-10-28T15:36:34Z'],\n",
              " ['Count Me Out', 'Kendrick Lamar', '2022-10-25T15:39:01Z'],\n",
              " ['Sierra Leone', 'Frank Ocean', '2022-10-24T19:16:08Z'],\n",
              " ['We Belong Together', 'Ritchie Valens', '2022-10-24T04:40:36Z'],\n",
              " ['Signs', 'Snoop Dogg', '2022-10-22T00:44:52Z'],\n",
              " ['I Heard It Through The Grapevine', 'Marvin Gaye', '2022-10-21T18:37:21Z'],\n",
              " ['Differences', 'Ginuwine', '2022-10-21T03:16:10Z'],\n",
              " ['Fabulous', 'Jaheim', '2022-10-21T03:12:28Z'],\n",
              " ['Heaven in My Eyes', 'Jaheim', '2022-10-21T02:56:47Z'],\n",
              " ['Free Yourself (feat. Missy Elliott)', 'Fantasia', '2022-10-21T01:08:36Z'],\n",
              " ['EveryGirl In The World', 'Young Money', '2022-10-21T00:35:20Z'],\n",
              " ['Malinda', 'Bobby Taylor & The Vancouvers', '2022-10-19T14:45:54Z'],\n",
              " ['Make It Out', 'Brent Faiyaz', '2022-10-18T12:55:51Z'],\n",
              " ['FREAK IN YOU', 'PARTYNEXTDOOR', '2022-10-13T01:34:15Z'],\n",
              " ['BPW', 'Jazmine Sullivan', '2022-10-11T20:17:33Z'],\n",
              " ['Spread Thin', 'Mariah the Scientist', '2022-10-11T20:12:58Z'],\n",
              " ['The Bells', 'The Originals', '2022-10-11T17:46:04Z'],\n",
              " ['The Way We Were / Try to Remember',\n",
              "  'Gladys Knight & The Pips',\n",
              "  '2022-10-11T17:41:28Z'],\n",
              " ['A Fork In The Road',\n",
              "  'Smokey Robinson & The Miracles',\n",
              "  '2022-10-11T15:46:57Z'],\n",
              " ['I Forgot To Be Your Lover', 'William Bell', '2022-10-11T15:40:11Z'],\n",
              " ['So in Love with You', 'Leroy Hutson', '2022-10-08T07:02:57Z'],\n",
              " [\"Risin' to the Top\", 'Keni Burke', '2022-10-08T06:59:23Z'],\n",
              " ['Your Precious Love', 'Marvin Gaye', '2022-10-05T20:35:06Z'],\n",
              " ['III. Urn', 'Childish Gambino', '2022-10-05T16:41:41Z'],\n",
              " ['Bistro', 'Madvillain', '2022-10-05T16:41:18Z'],\n",
              " ['Blowing Me Kisses', 'Soulja Boy', '2022-10-02T18:34:51Z'],\n",
              " ['Endlessly', 'Omar Apollo', '2022-10-01T01:03:21Z'],\n",
              " ['Everything', 'Mary J. Blige', '2022-09-30T00:11:10Z'],\n",
              " ['Orbit', 'Nao', '2022-09-29T00:02:36Z'],\n",
              " ['Under Control', 'The Internet', '2022-09-25T14:49:40Z'],\n",
              " ['Drowning (feat. PINK SWEAT$)', 'Hayne', '2022-09-23T16:02:44Z'],\n",
              " ['Defend', 'Koffee', '2022-09-22T16:12:13Z'],\n",
              " [\"Won't Be Late (feat. Drake)\", 'Swae Lee', '2022-09-22T16:08:51Z'],\n",
              " ['Still Dreaming', 'Nas', '2022-09-21T21:32:32Z'],\n",
              " ['Everything Belongs To You', 'Joesef', '2022-09-21T03:47:24Z'],\n",
              " [\"Same Ol' G\", 'Ginuwine', '2022-09-20T15:20:25Z'],\n",
              " [\"You're the Only Good Thing in My Life\",\n",
              "  'Cigarettes After Sex',\n",
              "  '2022-09-20T15:05:32Z'],\n",
              " ['hate will never win', 'XXXTENTACION', '2022-09-19T14:05:36Z'],\n",
              " ['Redemption', 'Drake', '2022-09-19T13:58:17Z'],\n",
              " [\"IT'S YOU (feat. keshi)\", 'MAX', '2022-09-18T18:12:53Z'],\n",
              " ['No One In the World', 'Anita Baker', '2022-09-15T14:50:17Z'],\n",
              " ['One More Chance', 'Michael Jackson', '2022-09-15T01:46:47Z'],\n",
              " ['Bad To Me', 'Wizkid', '2022-09-14T15:47:22Z'],\n",
              " ['Your Love (Is All I Need)', 'The Temprees', '2022-09-12T02:45:25Z'],\n",
              " ['In The Morning', 'The Marvelows', '2022-09-12T02:41:21Z'],\n",
              " [\"Fallin' in Love\", 'Hamilton', '2022-09-12T02:33:06Z'],\n",
              " ['Fuck Love (feat. Trippie Redd)', 'XXXTENTACION', '2022-09-12T01:51:17Z'],\n",
              " ['No Surprises', 'Radiohead', '2022-09-08T12:06:47Z'],\n",
              " ['Evergreen (You Didn’t Deserve Me At All)',\n",
              "  'Omar Apollo',\n",
              "  '2022-09-08T12:01:58Z'],\n",
              " [\"U Don't Have to Call\", 'Usher', '2022-09-07T03:04:01Z'],\n",
              " ['There’d Better Be A Mirrorball', 'Arctic Monkeys', '2022-09-06T02:32:21Z'],\n",
              " ['Comfortable', 'Lil Wayne', '2022-09-03T02:06:39Z'],\n",
              " ['Put Your Hands Where My Eyes Could See',\n",
              "  'Busta Rhymes',\n",
              "  '2022-09-02T00:01:48Z'],\n",
              " ['U-Love', 'J Dilla', '2022-09-01T16:32:10Z'],\n",
              " [\"Don't Go Breaking My Heart\", 'Elton John', '2022-09-01T03:21:15Z'],\n",
              " ['By The Time I Get To Phoenix - Remastered 2001',\n",
              "  'Glen Campbell',\n",
              "  '2022-08-29T01:50:00Z'],\n",
              " ['Happy and Well', 'Thee Sacred Souls', '2022-08-28T21:38:02Z'],\n",
              " [\"Once You Know (Then You'll Know)\",\n",
              "  'Thee Sacred Souls',\n",
              "  '2022-08-28T21:34:44Z'],\n",
              " ['For Now', 'Thee Sacred Souls', '2022-08-28T21:33:36Z'],\n",
              " ['Trade of Hearts', 'Thee Sacred Souls', '2022-08-28T21:31:40Z'],\n",
              " ['Lady Love', 'Thee Sacred Souls', '2022-08-28T21:25:34Z'],\n",
              " ['Garden Kisses', 'Giveon', '2022-08-28T00:19:38Z'],\n",
              " ['Just To Keep You Satisfied - A Cappella W/ Alternative Vocal',\n",
              "  'Marvin Gaye',\n",
              "  '2022-08-27T23:53:13Z'],\n",
              " [\"Ain't Gonna Hurt Nobody\", \"Kid 'N Play\", '2022-08-27T02:58:31Z'],\n",
              " ['WAY PAST LUCK (feat. 21 Savage)', 'DJ Khaled', '2022-08-26T13:50:38Z'],\n",
              " ['BEAUTIFUL (feat. Future & SZA)', 'DJ Khaled', '2022-08-26T13:49:44Z'],\n",
              " ['STAYING ALIVE (feat. Drake & Lil Baby)',\n",
              "  'DJ Khaled',\n",
              "  '2022-08-26T13:44:23Z'],\n",
              " ['PARTY (feat. Quavo & Takeoff)', 'DJ Khaled', '2022-08-26T13:41:13Z'],\n",
              " ['NO SECRET (feat. Drake)', 'DJ Khaled', '2022-08-26T13:38:33Z'],\n",
              " ['Dark Fantasy', 'Kanye West', '2022-08-24T04:07:19Z'],\n",
              " ['Kiss of Life', 'Sade', '2022-08-24T02:38:30Z'],\n",
              " ['Girl Like Me (feat. H.E.R.)', 'Jazmine Sullivan', '2022-08-24T02:36:09Z'],\n",
              " ['Poison', 'Aaliyah', '2022-08-24T02:35:06Z'],\n",
              " ['Saving All My Love for You', 'Whitney Houston', '2022-08-24T02:33:44Z'],\n",
              " ['Insecure', 'Jazmine Sullivan', '2022-08-24T02:33:38Z'],\n",
              " ['Be Your Girl', 'Teedra Moses', '2022-08-24T02:33:12Z'],\n",
              " ['Lonely', 'Akon', '2022-08-23T01:15:04Z'],\n",
              " ['This Will Be (An Everlasting Love)',\n",
              "  'Natalie Cole',\n",
              "  '2022-08-21T05:06:55Z'],\n",
              " ['Black Qualls - Single Version', 'Thundercat', '2022-08-20T03:21:50Z'],\n",
              " ['This Place Hotel (a.k.a. Heartbreak Hotel)',\n",
              "  'The Jacksons',\n",
              "  '2022-08-18T18:55:04Z'],\n",
              " [\"Hello, It's Me\", 'Groove Theory', '2022-08-17T16:07:31Z'],\n",
              " ['The Sweetest Thing (feat. Lauryn Hill) - From the New Line Cinema film \"Love Jones\"',\n",
              "  'Refugee Camp All-Stars',\n",
              "  '2022-08-17T15:47:21Z'],\n",
              " ['Sweet Thing', 'Rufus', '2022-08-17T15:44:01Z'],\n",
              " [\"This Woman's Work - Remastered 2021\", 'Maxwell', '2022-08-17T06:25:37Z'],\n",
              " ['Super Freaky Girl', 'Nicki Minaj', '2022-08-17T03:45:44Z']]"
            ]
          },
          "metadata": {},
          "execution_count": 213
        }
      ]
    },
    {
      "cell_type": "code",
      "source": [
        "import pandas as pd"
      ],
      "metadata": {
        "id": "IdTwF7ETFYSG"
      },
      "execution_count": null,
      "outputs": []
    },
    {
      "cell_type": "code",
      "source": [
        "playlist_df = pd.DataFrame(playlist, columns=['Track_Name', 'Artist', 'Date_Added'])"
      ],
      "metadata": {
        "id": "fdzjg3msHW6q"
      },
      "execution_count": null,
      "outputs": []
    },
    {
      "cell_type": "code",
      "source": [
        "playlist_df.head()"
      ],
      "metadata": {
        "colab": {
          "base_uri": "https://localhost:8080/",
          "height": 206
        },
        "id": "cyqYqVI-IDTA",
        "outputId": "a1a920ec-46e7-430a-9ca5-421f4a06a926"
      },
      "execution_count": null,
      "outputs": [
        {
          "output_type": "execute_result",
          "data": {
            "text/plain": [
              "          Track_Name         Artist            Date_Added\n",
              "0            You Up?    Johan Lenox  2023-02-12T15:29:35Z\n",
              "1          SKELETONS   Travis Scott  2023-02-10T06:16:53Z\n",
              "2     So You Can Cry          Ne-Yo  2023-02-07T16:34:15Z\n",
              "3               Baby  Summer Walker  2023-02-06T17:01:18Z\n",
              "4  Tangled Up in You     The Altons  2023-02-05T16:24:40Z"
            ],
            "text/html": [
              "\n",
              "  <div id=\"df-df89ee69-d27e-4cf8-b11e-0e091d827215\">\n",
              "    <div class=\"colab-df-container\">\n",
              "      <div>\n",
              "<style scoped>\n",
              "    .dataframe tbody tr th:only-of-type {\n",
              "        vertical-align: middle;\n",
              "    }\n",
              "\n",
              "    .dataframe tbody tr th {\n",
              "        vertical-align: top;\n",
              "    }\n",
              "\n",
              "    .dataframe thead th {\n",
              "        text-align: right;\n",
              "    }\n",
              "</style>\n",
              "<table border=\"1\" class=\"dataframe\">\n",
              "  <thead>\n",
              "    <tr style=\"text-align: right;\">\n",
              "      <th></th>\n",
              "      <th>Track_Name</th>\n",
              "      <th>Artist</th>\n",
              "      <th>Date_Added</th>\n",
              "    </tr>\n",
              "  </thead>\n",
              "  <tbody>\n",
              "    <tr>\n",
              "      <th>0</th>\n",
              "      <td>You Up?</td>\n",
              "      <td>Johan Lenox</td>\n",
              "      <td>2023-02-12T15:29:35Z</td>\n",
              "    </tr>\n",
              "    <tr>\n",
              "      <th>1</th>\n",
              "      <td>SKELETONS</td>\n",
              "      <td>Travis Scott</td>\n",
              "      <td>2023-02-10T06:16:53Z</td>\n",
              "    </tr>\n",
              "    <tr>\n",
              "      <th>2</th>\n",
              "      <td>So You Can Cry</td>\n",
              "      <td>Ne-Yo</td>\n",
              "      <td>2023-02-07T16:34:15Z</td>\n",
              "    </tr>\n",
              "    <tr>\n",
              "      <th>3</th>\n",
              "      <td>Baby</td>\n",
              "      <td>Summer Walker</td>\n",
              "      <td>2023-02-06T17:01:18Z</td>\n",
              "    </tr>\n",
              "    <tr>\n",
              "      <th>4</th>\n",
              "      <td>Tangled Up in You</td>\n",
              "      <td>The Altons</td>\n",
              "      <td>2023-02-05T16:24:40Z</td>\n",
              "    </tr>\n",
              "  </tbody>\n",
              "</table>\n",
              "</div>\n",
              "      <button class=\"colab-df-convert\" onclick=\"convertToInteractive('df-df89ee69-d27e-4cf8-b11e-0e091d827215')\"\n",
              "              title=\"Convert this dataframe to an interactive table.\"\n",
              "              style=\"display:none;\">\n",
              "        \n",
              "  <svg xmlns=\"http://www.w3.org/2000/svg\" height=\"24px\"viewBox=\"0 0 24 24\"\n",
              "       width=\"24px\">\n",
              "    <path d=\"M0 0h24v24H0V0z\" fill=\"none\"/>\n",
              "    <path d=\"M18.56 5.44l.94 2.06.94-2.06 2.06-.94-2.06-.94-.94-2.06-.94 2.06-2.06.94zm-11 1L8.5 8.5l.94-2.06 2.06-.94-2.06-.94L8.5 2.5l-.94 2.06-2.06.94zm10 10l.94 2.06.94-2.06 2.06-.94-2.06-.94-.94-2.06-.94 2.06-2.06.94z\"/><path d=\"M17.41 7.96l-1.37-1.37c-.4-.4-.92-.59-1.43-.59-.52 0-1.04.2-1.43.59L10.3 9.45l-7.72 7.72c-.78.78-.78 2.05 0 2.83L4 21.41c.39.39.9.59 1.41.59.51 0 1.02-.2 1.41-.59l7.78-7.78 2.81-2.81c.8-.78.8-2.07 0-2.86zM5.41 20L4 18.59l7.72-7.72 1.47 1.35L5.41 20z\"/>\n",
              "  </svg>\n",
              "      </button>\n",
              "      \n",
              "  <style>\n",
              "    .colab-df-container {\n",
              "      display:flex;\n",
              "      flex-wrap:wrap;\n",
              "      gap: 12px;\n",
              "    }\n",
              "\n",
              "    .colab-df-convert {\n",
              "      background-color: #E8F0FE;\n",
              "      border: none;\n",
              "      border-radius: 50%;\n",
              "      cursor: pointer;\n",
              "      display: none;\n",
              "      fill: #1967D2;\n",
              "      height: 32px;\n",
              "      padding: 0 0 0 0;\n",
              "      width: 32px;\n",
              "    }\n",
              "\n",
              "    .colab-df-convert:hover {\n",
              "      background-color: #E2EBFA;\n",
              "      box-shadow: 0px 1px 2px rgba(60, 64, 67, 0.3), 0px 1px 3px 1px rgba(60, 64, 67, 0.15);\n",
              "      fill: #174EA6;\n",
              "    }\n",
              "\n",
              "    [theme=dark] .colab-df-convert {\n",
              "      background-color: #3B4455;\n",
              "      fill: #D2E3FC;\n",
              "    }\n",
              "\n",
              "    [theme=dark] .colab-df-convert:hover {\n",
              "      background-color: #434B5C;\n",
              "      box-shadow: 0px 1px 3px 1px rgba(0, 0, 0, 0.15);\n",
              "      filter: drop-shadow(0px 1px 2px rgba(0, 0, 0, 0.3));\n",
              "      fill: #FFFFFF;\n",
              "    }\n",
              "  </style>\n",
              "\n",
              "      <script>\n",
              "        const buttonEl =\n",
              "          document.querySelector('#df-df89ee69-d27e-4cf8-b11e-0e091d827215 button.colab-df-convert');\n",
              "        buttonEl.style.display =\n",
              "          google.colab.kernel.accessAllowed ? 'block' : 'none';\n",
              "\n",
              "        async function convertToInteractive(key) {\n",
              "          const element = document.querySelector('#df-df89ee69-d27e-4cf8-b11e-0e091d827215');\n",
              "          const dataTable =\n",
              "            await google.colab.kernel.invokeFunction('convertToInteractive',\n",
              "                                                     [key], {});\n",
              "          if (!dataTable) return;\n",
              "\n",
              "          const docLinkHtml = 'Like what you see? Visit the ' +\n",
              "            '<a target=\"_blank\" href=https://colab.research.google.com/notebooks/data_table.ipynb>data table notebook</a>'\n",
              "            + ' to learn more about interactive tables.';\n",
              "          element.innerHTML = '';\n",
              "          dataTable['output_type'] = 'display_data';\n",
              "          await google.colab.output.renderOutput(dataTable, element);\n",
              "          const docLink = document.createElement('div');\n",
              "          docLink.innerHTML = docLinkHtml;\n",
              "          element.appendChild(docLink);\n",
              "        }\n",
              "      </script>\n",
              "    </div>\n",
              "  </div>\n",
              "  "
            ]
          },
          "metadata": {},
          "execution_count": 216
        }
      ]
    },
    {
      "cell_type": "code",
      "source": [
        "playlist_df.info()"
      ],
      "metadata": {
        "colab": {
          "base_uri": "https://localhost:8080/"
        },
        "id": "sLb9ycMpg7RZ",
        "outputId": "114cfa32-2738-4dbb-d413-776dd3b638ab"
      },
      "execution_count": null,
      "outputs": [
        {
          "output_type": "stream",
          "name": "stdout",
          "text": [
            "<class 'pandas.core.frame.DataFrame'>\n",
            "RangeIndex: 200 entries, 0 to 199\n",
            "Data columns (total 3 columns):\n",
            " #   Column      Non-Null Count  Dtype \n",
            "---  ------      --------------  ----- \n",
            " 0   Track_Name  200 non-null    object\n",
            " 1   Artist      200 non-null    object\n",
            " 2   Date_Added  200 non-null    object\n",
            "dtypes: object(3)\n",
            "memory usage: 4.8+ KB\n"
          ]
        }
      ]
    },
    {
      "cell_type": "code",
      "source": [
        "playlist_df.to_csv('Playlist_Data.csv')"
      ],
      "metadata": {
        "id": "mggdJtA6FkV6"
      },
      "execution_count": null,
      "outputs": []
    },
    {
      "cell_type": "code",
      "source": [
        "pip install vaderSentiment"
      ],
      "metadata": {
        "colab": {
          "base_uri": "https://localhost:8080/"
        },
        "id": "kXsxXl2NOMYQ",
        "outputId": "f9f31ffa-3812-4762-9ad0-15cdfd822abd"
      },
      "execution_count": null,
      "outputs": [
        {
          "output_type": "stream",
          "name": "stdout",
          "text": [
            "Looking in indexes: https://pypi.org/simple, https://us-python.pkg.dev/colab-wheels/public/simple/\n",
            "Requirement already satisfied: vaderSentiment in /usr/local/lib/python3.8/dist-packages (3.3.2)\n",
            "Requirement already satisfied: requests in /usr/local/lib/python3.8/dist-packages (from vaderSentiment) (2.25.1)\n",
            "Requirement already satisfied: chardet<5,>=3.0.2 in /usr/local/lib/python3.8/dist-packages (from requests->vaderSentiment) (4.0.0)\n",
            "Requirement already satisfied: urllib3<1.27,>=1.21.1 in /usr/local/lib/python3.8/dist-packages (from requests->vaderSentiment) (1.24.3)\n",
            "Requirement already satisfied: idna<3,>=2.5 in /usr/local/lib/python3.8/dist-packages (from requests->vaderSentiment) (2.10)\n",
            "Requirement already satisfied: certifi>=2017.4.17 in /usr/local/lib/python3.8/dist-packages (from requests->vaderSentiment) (2022.12.7)\n"
          ]
        }
      ]
    },
    {
      "cell_type": "code",
      "source": [
        "def make_song_request(track, artist):\n",
        "  url = 'https://api.musixmatch.com/ws/1.1/matcher.lyrics.get'\n",
        "  key = '' # Enter your own key from Musixmatch\n",
        "  req = requests.get(url, params={\n",
        "    \"apikey\":key,\n",
        "    \"q_track\": track,\n",
        "    \"q_artist\": artist\n",
        "  })\n",
        "  data = req.json() # Converts request into json\n",
        "  lyrics = data['message']['body']['lyrics']['lyrics_body']\n",
        "  return lyrics # Return lyrics of song"
      ],
      "metadata": {
        "id": "RX_5t0gKTOwh"
      },
      "execution_count": null,
      "outputs": []
    },
    {
      "cell_type": "code",
      "source": [
        "song = make_song_request(\"Find Your Love\", \"Drake\") # Example"
      ],
      "metadata": {
        "id": "45sfBWY_Tyi1"
      },
      "execution_count": null,
      "outputs": []
    },
    {
      "cell_type": "code",
      "source": [
        "from vaderSentiment.vaderSentiment import SentimentIntensityAnalyzer\n",
        "\n",
        "analyser = SentimentIntensityAnalyzer()"
      ],
      "metadata": {
        "id": "cy2LBq2FWF8x"
      },
      "execution_count": null,
      "outputs": []
    },
    {
      "cell_type": "code",
      "source": [
        "\"\"\"Main Program Logic of retrieving lyrics from MusixMatch (Limit of 2k API calls a day) 200 songs took 19s to process\"\"\"\n",
        "\n",
        "list_of_lyrics, sentiment_scores, overall_sentiment, positives, negatives, neutrals = ([] for i in range(6)) # Make all these variables equal to empty list\n",
        "\n",
        "for i in range(len(playlist_df)):\n",
        "  song = playlist_df.iloc[i][0]\n",
        "  artist = playlist_df.iloc[i][1]\n",
        "  try:\n",
        "    # Retrieve lyrics\n",
        "    lyrics = make_song_request(song, artist)\n",
        "  except:\n",
        "    # Assign them to null value if we can't retrieve lyrics \n",
        "    list_of_lyrics.append(None)\n",
        "    sentiment_scores.append(None)\n",
        "    overall_sentiment.append(None)\n",
        "    positives.append(None)\n",
        "    negatives.append(None)\n",
        "    neutrals.append(None)\n",
        "    continue\n",
        "\n",
        "  # Sentiment Analysis\n",
        "  sentiment_score = analyser.polarity_scores(lyrics)\n",
        "  pos = sentiment_score['pos']\n",
        "  neg = sentiment_score['neg']\n",
        "  neu = sentiment_score['neu']\n",
        "  full_sentiment_score = sentiment_score['compound']\n",
        "\n",
        "  # Sentiment Classifier\n",
        "  if (full_sentiment_score >= 0.05):\n",
        "    overall_sentiment.append(\"Positive\")\n",
        "  elif (full_sentiment_score <= -0.05):\n",
        "    overall_sentiment.append(\"Negative\")\n",
        "  else:\n",
        "    overall_sentiment.append(\"Neutral\")\n",
        "\n",
        "  sentiment_scores.append(full_sentiment_score)\n",
        "  list_of_lyrics.append(lyrics)\n",
        "  positives.append(pos)\n",
        "  negatives.append(neg)\n",
        "  neutrals.append(neu)\n",
        "\n",
        "\n",
        "# Create new columns for the new data\n",
        "playlist_df['lyrics'] = list_of_lyrics\n",
        "playlist_df['sentiment_scores'] = sentiment_scores\n",
        "playlist_df['overall_sentiment'] = overall_sentiment\n",
        "playlist_df['pos'] = positives\n",
        "playlist_df['neg'] = negatives\n",
        "playlist_df['neu'] = neutrals"
      ],
      "metadata": {
        "id": "FAMVcbKVT5Bi"
      },
      "execution_count": null,
      "outputs": []
    },
    {
      "cell_type": "code",
      "source": [
        "playlist_df.head()"
      ],
      "metadata": {
        "colab": {
          "base_uri": "https://localhost:8080/",
          "height": 206
        },
        "id": "vqeFaY-CRuzk",
        "outputId": "5e81f822-dbb4-497f-cf79-be390757a812"
      },
      "execution_count": null,
      "outputs": [
        {
          "output_type": "execute_result",
          "data": {
            "text/plain": [
              "          Track_Name         Artist            Date_Added  \\\n",
              "0            You Up?    Johan Lenox  2023-02-12T15:29:35Z   \n",
              "1          SKELETONS   Travis Scott  2023-02-10T06:16:53Z   \n",
              "2     So You Can Cry          Ne-Yo  2023-02-07T16:34:15Z   \n",
              "3               Baby  Summer Walker  2023-02-06T17:01:18Z   \n",
              "4  Tangled Up in You     The Altons  2023-02-05T16:24:40Z   \n",
              "\n",
              "                                              lyrics  sentiment_scores  \\\n",
              "0  You up?\\nLiquor got me thinking I'm in love\\nI...            0.6199   \n",
              "1  Yeah, yeah, yeah (Yeah, ooh)\\n\\nFeels like slo...            0.9559   \n",
              "2  So it's over\\nHe's with someone else and you k...           -0.3078   \n",
              "3  You got my heart working overtime\\nYou got my ...            0.8625   \n",
              "4                                               None               NaN   \n",
              "\n",
              "  overall_sentiment    pos    neg    neu  \n",
              "0          Positive  0.146  0.121  0.733  \n",
              "1          Positive  0.406  0.000  0.594  \n",
              "2          Negative  0.107  0.095  0.798  \n",
              "3          Positive  0.248  0.054  0.698  \n",
              "4              None    NaN    NaN    NaN  "
            ],
            "text/html": [
              "\n",
              "  <div id=\"df-6c6291af-e165-41f7-9f1e-7a82316a749e\">\n",
              "    <div class=\"colab-df-container\">\n",
              "      <div>\n",
              "<style scoped>\n",
              "    .dataframe tbody tr th:only-of-type {\n",
              "        vertical-align: middle;\n",
              "    }\n",
              "\n",
              "    .dataframe tbody tr th {\n",
              "        vertical-align: top;\n",
              "    }\n",
              "\n",
              "    .dataframe thead th {\n",
              "        text-align: right;\n",
              "    }\n",
              "</style>\n",
              "<table border=\"1\" class=\"dataframe\">\n",
              "  <thead>\n",
              "    <tr style=\"text-align: right;\">\n",
              "      <th></th>\n",
              "      <th>Track_Name</th>\n",
              "      <th>Artist</th>\n",
              "      <th>Date_Added</th>\n",
              "      <th>lyrics</th>\n",
              "      <th>sentiment_scores</th>\n",
              "      <th>overall_sentiment</th>\n",
              "      <th>pos</th>\n",
              "      <th>neg</th>\n",
              "      <th>neu</th>\n",
              "    </tr>\n",
              "  </thead>\n",
              "  <tbody>\n",
              "    <tr>\n",
              "      <th>0</th>\n",
              "      <td>You Up?</td>\n",
              "      <td>Johan Lenox</td>\n",
              "      <td>2023-02-12T15:29:35Z</td>\n",
              "      <td>You up?\\nLiquor got me thinking I'm in love\\nI...</td>\n",
              "      <td>0.6199</td>\n",
              "      <td>Positive</td>\n",
              "      <td>0.146</td>\n",
              "      <td>0.121</td>\n",
              "      <td>0.733</td>\n",
              "    </tr>\n",
              "    <tr>\n",
              "      <th>1</th>\n",
              "      <td>SKELETONS</td>\n",
              "      <td>Travis Scott</td>\n",
              "      <td>2023-02-10T06:16:53Z</td>\n",
              "      <td>Yeah, yeah, yeah (Yeah, ooh)\\n\\nFeels like slo...</td>\n",
              "      <td>0.9559</td>\n",
              "      <td>Positive</td>\n",
              "      <td>0.406</td>\n",
              "      <td>0.000</td>\n",
              "      <td>0.594</td>\n",
              "    </tr>\n",
              "    <tr>\n",
              "      <th>2</th>\n",
              "      <td>So You Can Cry</td>\n",
              "      <td>Ne-Yo</td>\n",
              "      <td>2023-02-07T16:34:15Z</td>\n",
              "      <td>So it's over\\nHe's with someone else and you k...</td>\n",
              "      <td>-0.3078</td>\n",
              "      <td>Negative</td>\n",
              "      <td>0.107</td>\n",
              "      <td>0.095</td>\n",
              "      <td>0.798</td>\n",
              "    </tr>\n",
              "    <tr>\n",
              "      <th>3</th>\n",
              "      <td>Baby</td>\n",
              "      <td>Summer Walker</td>\n",
              "      <td>2023-02-06T17:01:18Z</td>\n",
              "      <td>You got my heart working overtime\\nYou got my ...</td>\n",
              "      <td>0.8625</td>\n",
              "      <td>Positive</td>\n",
              "      <td>0.248</td>\n",
              "      <td>0.054</td>\n",
              "      <td>0.698</td>\n",
              "    </tr>\n",
              "    <tr>\n",
              "      <th>4</th>\n",
              "      <td>Tangled Up in You</td>\n",
              "      <td>The Altons</td>\n",
              "      <td>2023-02-05T16:24:40Z</td>\n",
              "      <td>None</td>\n",
              "      <td>NaN</td>\n",
              "      <td>None</td>\n",
              "      <td>NaN</td>\n",
              "      <td>NaN</td>\n",
              "      <td>NaN</td>\n",
              "    </tr>\n",
              "  </tbody>\n",
              "</table>\n",
              "</div>\n",
              "      <button class=\"colab-df-convert\" onclick=\"convertToInteractive('df-6c6291af-e165-41f7-9f1e-7a82316a749e')\"\n",
              "              title=\"Convert this dataframe to an interactive table.\"\n",
              "              style=\"display:none;\">\n",
              "        \n",
              "  <svg xmlns=\"http://www.w3.org/2000/svg\" height=\"24px\"viewBox=\"0 0 24 24\"\n",
              "       width=\"24px\">\n",
              "    <path d=\"M0 0h24v24H0V0z\" fill=\"none\"/>\n",
              "    <path d=\"M18.56 5.44l.94 2.06.94-2.06 2.06-.94-2.06-.94-.94-2.06-.94 2.06-2.06.94zm-11 1L8.5 8.5l.94-2.06 2.06-.94-2.06-.94L8.5 2.5l-.94 2.06-2.06.94zm10 10l.94 2.06.94-2.06 2.06-.94-2.06-.94-.94-2.06-.94 2.06-2.06.94z\"/><path d=\"M17.41 7.96l-1.37-1.37c-.4-.4-.92-.59-1.43-.59-.52 0-1.04.2-1.43.59L10.3 9.45l-7.72 7.72c-.78.78-.78 2.05 0 2.83L4 21.41c.39.39.9.59 1.41.59.51 0 1.02-.2 1.41-.59l7.78-7.78 2.81-2.81c.8-.78.8-2.07 0-2.86zM5.41 20L4 18.59l7.72-7.72 1.47 1.35L5.41 20z\"/>\n",
              "  </svg>\n",
              "      </button>\n",
              "      \n",
              "  <style>\n",
              "    .colab-df-container {\n",
              "      display:flex;\n",
              "      flex-wrap:wrap;\n",
              "      gap: 12px;\n",
              "    }\n",
              "\n",
              "    .colab-df-convert {\n",
              "      background-color: #E8F0FE;\n",
              "      border: none;\n",
              "      border-radius: 50%;\n",
              "      cursor: pointer;\n",
              "      display: none;\n",
              "      fill: #1967D2;\n",
              "      height: 32px;\n",
              "      padding: 0 0 0 0;\n",
              "      width: 32px;\n",
              "    }\n",
              "\n",
              "    .colab-df-convert:hover {\n",
              "      background-color: #E2EBFA;\n",
              "      box-shadow: 0px 1px 2px rgba(60, 64, 67, 0.3), 0px 1px 3px 1px rgba(60, 64, 67, 0.15);\n",
              "      fill: #174EA6;\n",
              "    }\n",
              "\n",
              "    [theme=dark] .colab-df-convert {\n",
              "      background-color: #3B4455;\n",
              "      fill: #D2E3FC;\n",
              "    }\n",
              "\n",
              "    [theme=dark] .colab-df-convert:hover {\n",
              "      background-color: #434B5C;\n",
              "      box-shadow: 0px 1px 3px 1px rgba(0, 0, 0, 0.15);\n",
              "      filter: drop-shadow(0px 1px 2px rgba(0, 0, 0, 0.3));\n",
              "      fill: #FFFFFF;\n",
              "    }\n",
              "  </style>\n",
              "\n",
              "      <script>\n",
              "        const buttonEl =\n",
              "          document.querySelector('#df-6c6291af-e165-41f7-9f1e-7a82316a749e button.colab-df-convert');\n",
              "        buttonEl.style.display =\n",
              "          google.colab.kernel.accessAllowed ? 'block' : 'none';\n",
              "\n",
              "        async function convertToInteractive(key) {\n",
              "          const element = document.querySelector('#df-6c6291af-e165-41f7-9f1e-7a82316a749e');\n",
              "          const dataTable =\n",
              "            await google.colab.kernel.invokeFunction('convertToInteractive',\n",
              "                                                     [key], {});\n",
              "          if (!dataTable) return;\n",
              "\n",
              "          const docLinkHtml = 'Like what you see? Visit the ' +\n",
              "            '<a target=\"_blank\" href=https://colab.research.google.com/notebooks/data_table.ipynb>data table notebook</a>'\n",
              "            + ' to learn more about interactive tables.';\n",
              "          element.innerHTML = '';\n",
              "          dataTable['output_type'] = 'display_data';\n",
              "          await google.colab.output.renderOutput(dataTable, element);\n",
              "          const docLink = document.createElement('div');\n",
              "          docLink.innerHTML = docLinkHtml;\n",
              "          element.appendChild(docLink);\n",
              "        }\n",
              "      </script>\n",
              "    </div>\n",
              "  </div>\n",
              "  "
            ]
          },
          "metadata": {},
          "execution_count": 225
        }
      ]
    },
    {
      "cell_type": "code",
      "source": [
        "len(playlist_df)"
      ],
      "metadata": {
        "colab": {
          "base_uri": "https://localhost:8080/"
        },
        "id": "MhKQ8Q2brjBG",
        "outputId": "7517c9fd-fe77-464a-a6af-d1e4655c0379"
      },
      "execution_count": null,
      "outputs": [
        {
          "output_type": "execute_result",
          "data": {
            "text/plain": [
              "200"
            ]
          },
          "metadata": {},
          "execution_count": 226
        }
      ]
    },
    {
      "cell_type": "code",
      "source": [
        "playlist_df.isna().sum()"
      ],
      "metadata": {
        "colab": {
          "base_uri": "https://localhost:8080/"
        },
        "id": "aRG14Rerrn47",
        "outputId": "bb62c65b-fd12-4153-b277-1ecb362a6ab8"
      },
      "execution_count": null,
      "outputs": [
        {
          "output_type": "execute_result",
          "data": {
            "text/plain": [
              "Track_Name            0\n",
              "Artist                0\n",
              "Date_Added            0\n",
              "lyrics               16\n",
              "sentiment_scores     16\n",
              "overall_sentiment    16\n",
              "pos                  16\n",
              "neg                  16\n",
              "neu                  16\n",
              "dtype: int64"
            ]
          },
          "metadata": {},
          "execution_count": 227
        }
      ]
    },
    {
      "cell_type": "code",
      "source": [
        "playlist_df = playlist_df.dropna() # Drop rows that contain null values"
      ],
      "metadata": {
        "id": "DWvSN5-XrtUS"
      },
      "execution_count": null,
      "outputs": []
    },
    {
      "cell_type": "code",
      "source": [
        "playlist_df.to_csv('SongLyricsDataset.csv')"
      ],
      "metadata": {
        "id": "L_if-uehsHtH"
      },
      "execution_count": null,
      "outputs": []
    },
    {
      "cell_type": "code",
      "source": [
        "len(playlist_df)"
      ],
      "metadata": {
        "colab": {
          "base_uri": "https://localhost:8080/"
        },
        "id": "rR-hOGFAr6Ur",
        "outputId": "85e375c2-963d-49bb-895f-0363dfd6a624"
      },
      "execution_count": null,
      "outputs": [
        {
          "output_type": "execute_result",
          "data": {
            "text/plain": [
              "184"
            ]
          },
          "metadata": {},
          "execution_count": 230
        }
      ]
    },
    {
      "cell_type": "code",
      "source": [
        "playlist_df.head()"
      ],
      "metadata": {
        "colab": {
          "base_uri": "https://localhost:8080/",
          "height": 206
        },
        "id": "4xyPCU7VsUd3",
        "outputId": "e2569754-7484-4fb4-8548-92da2754a2ae"
      },
      "execution_count": null,
      "outputs": [
        {
          "output_type": "execute_result",
          "data": {
            "text/plain": [
              "       Track_Name         Artist            Date_Added  \\\n",
              "0         You Up?    Johan Lenox  2023-02-12T15:29:35Z   \n",
              "1       SKELETONS   Travis Scott  2023-02-10T06:16:53Z   \n",
              "2  So You Can Cry          Ne-Yo  2023-02-07T16:34:15Z   \n",
              "3            Baby  Summer Walker  2023-02-06T17:01:18Z   \n",
              "5  THAT'S MY GIRL   Frank Sativa  2023-02-05T16:16:37Z   \n",
              "\n",
              "                                              lyrics  sentiment_scores  \\\n",
              "0  You up?\\nLiquor got me thinking I'm in love\\nI...            0.6199   \n",
              "1  Yeah, yeah, yeah (Yeah, ooh)\\n\\nFeels like slo...            0.9559   \n",
              "2  So it's over\\nHe's with someone else and you k...           -0.3078   \n",
              "3  You got my heart working overtime\\nYou got my ...            0.8625   \n",
              "5  Oh, that's my girl (my girl)\\nCall me when she...            0.0000   \n",
              "\n",
              "  overall_sentiment    pos    neg    neu  \n",
              "0          Positive  0.146  0.121  0.733  \n",
              "1          Positive  0.406  0.000  0.594  \n",
              "2          Negative  0.107  0.095  0.798  \n",
              "3          Positive  0.248  0.054  0.698  \n",
              "5           Neutral  0.000  0.000  1.000  "
            ],
            "text/html": [
              "\n",
              "  <div id=\"df-23b80db4-d7ba-4c2c-b4d7-27607ff6aaba\">\n",
              "    <div class=\"colab-df-container\">\n",
              "      <div>\n",
              "<style scoped>\n",
              "    .dataframe tbody tr th:only-of-type {\n",
              "        vertical-align: middle;\n",
              "    }\n",
              "\n",
              "    .dataframe tbody tr th {\n",
              "        vertical-align: top;\n",
              "    }\n",
              "\n",
              "    .dataframe thead th {\n",
              "        text-align: right;\n",
              "    }\n",
              "</style>\n",
              "<table border=\"1\" class=\"dataframe\">\n",
              "  <thead>\n",
              "    <tr style=\"text-align: right;\">\n",
              "      <th></th>\n",
              "      <th>Track_Name</th>\n",
              "      <th>Artist</th>\n",
              "      <th>Date_Added</th>\n",
              "      <th>lyrics</th>\n",
              "      <th>sentiment_scores</th>\n",
              "      <th>overall_sentiment</th>\n",
              "      <th>pos</th>\n",
              "      <th>neg</th>\n",
              "      <th>neu</th>\n",
              "    </tr>\n",
              "  </thead>\n",
              "  <tbody>\n",
              "    <tr>\n",
              "      <th>0</th>\n",
              "      <td>You Up?</td>\n",
              "      <td>Johan Lenox</td>\n",
              "      <td>2023-02-12T15:29:35Z</td>\n",
              "      <td>You up?\\nLiquor got me thinking I'm in love\\nI...</td>\n",
              "      <td>0.6199</td>\n",
              "      <td>Positive</td>\n",
              "      <td>0.146</td>\n",
              "      <td>0.121</td>\n",
              "      <td>0.733</td>\n",
              "    </tr>\n",
              "    <tr>\n",
              "      <th>1</th>\n",
              "      <td>SKELETONS</td>\n",
              "      <td>Travis Scott</td>\n",
              "      <td>2023-02-10T06:16:53Z</td>\n",
              "      <td>Yeah, yeah, yeah (Yeah, ooh)\\n\\nFeels like slo...</td>\n",
              "      <td>0.9559</td>\n",
              "      <td>Positive</td>\n",
              "      <td>0.406</td>\n",
              "      <td>0.000</td>\n",
              "      <td>0.594</td>\n",
              "    </tr>\n",
              "    <tr>\n",
              "      <th>2</th>\n",
              "      <td>So You Can Cry</td>\n",
              "      <td>Ne-Yo</td>\n",
              "      <td>2023-02-07T16:34:15Z</td>\n",
              "      <td>So it's over\\nHe's with someone else and you k...</td>\n",
              "      <td>-0.3078</td>\n",
              "      <td>Negative</td>\n",
              "      <td>0.107</td>\n",
              "      <td>0.095</td>\n",
              "      <td>0.798</td>\n",
              "    </tr>\n",
              "    <tr>\n",
              "      <th>3</th>\n",
              "      <td>Baby</td>\n",
              "      <td>Summer Walker</td>\n",
              "      <td>2023-02-06T17:01:18Z</td>\n",
              "      <td>You got my heart working overtime\\nYou got my ...</td>\n",
              "      <td>0.8625</td>\n",
              "      <td>Positive</td>\n",
              "      <td>0.248</td>\n",
              "      <td>0.054</td>\n",
              "      <td>0.698</td>\n",
              "    </tr>\n",
              "    <tr>\n",
              "      <th>5</th>\n",
              "      <td>THAT'S MY GIRL</td>\n",
              "      <td>Frank Sativa</td>\n",
              "      <td>2023-02-05T16:16:37Z</td>\n",
              "      <td>Oh, that's my girl (my girl)\\nCall me when she...</td>\n",
              "      <td>0.0000</td>\n",
              "      <td>Neutral</td>\n",
              "      <td>0.000</td>\n",
              "      <td>0.000</td>\n",
              "      <td>1.000</td>\n",
              "    </tr>\n",
              "  </tbody>\n",
              "</table>\n",
              "</div>\n",
              "      <button class=\"colab-df-convert\" onclick=\"convertToInteractive('df-23b80db4-d7ba-4c2c-b4d7-27607ff6aaba')\"\n",
              "              title=\"Convert this dataframe to an interactive table.\"\n",
              "              style=\"display:none;\">\n",
              "        \n",
              "  <svg xmlns=\"http://www.w3.org/2000/svg\" height=\"24px\"viewBox=\"0 0 24 24\"\n",
              "       width=\"24px\">\n",
              "    <path d=\"M0 0h24v24H0V0z\" fill=\"none\"/>\n",
              "    <path d=\"M18.56 5.44l.94 2.06.94-2.06 2.06-.94-2.06-.94-.94-2.06-.94 2.06-2.06.94zm-11 1L8.5 8.5l.94-2.06 2.06-.94-2.06-.94L8.5 2.5l-.94 2.06-2.06.94zm10 10l.94 2.06.94-2.06 2.06-.94-2.06-.94-.94-2.06-.94 2.06-2.06.94z\"/><path d=\"M17.41 7.96l-1.37-1.37c-.4-.4-.92-.59-1.43-.59-.52 0-1.04.2-1.43.59L10.3 9.45l-7.72 7.72c-.78.78-.78 2.05 0 2.83L4 21.41c.39.39.9.59 1.41.59.51 0 1.02-.2 1.41-.59l7.78-7.78 2.81-2.81c.8-.78.8-2.07 0-2.86zM5.41 20L4 18.59l7.72-7.72 1.47 1.35L5.41 20z\"/>\n",
              "  </svg>\n",
              "      </button>\n",
              "      \n",
              "  <style>\n",
              "    .colab-df-container {\n",
              "      display:flex;\n",
              "      flex-wrap:wrap;\n",
              "      gap: 12px;\n",
              "    }\n",
              "\n",
              "    .colab-df-convert {\n",
              "      background-color: #E8F0FE;\n",
              "      border: none;\n",
              "      border-radius: 50%;\n",
              "      cursor: pointer;\n",
              "      display: none;\n",
              "      fill: #1967D2;\n",
              "      height: 32px;\n",
              "      padding: 0 0 0 0;\n",
              "      width: 32px;\n",
              "    }\n",
              "\n",
              "    .colab-df-convert:hover {\n",
              "      background-color: #E2EBFA;\n",
              "      box-shadow: 0px 1px 2px rgba(60, 64, 67, 0.3), 0px 1px 3px 1px rgba(60, 64, 67, 0.15);\n",
              "      fill: #174EA6;\n",
              "    }\n",
              "\n",
              "    [theme=dark] .colab-df-convert {\n",
              "      background-color: #3B4455;\n",
              "      fill: #D2E3FC;\n",
              "    }\n",
              "\n",
              "    [theme=dark] .colab-df-convert:hover {\n",
              "      background-color: #434B5C;\n",
              "      box-shadow: 0px 1px 3px 1px rgba(0, 0, 0, 0.15);\n",
              "      filter: drop-shadow(0px 1px 2px rgba(0, 0, 0, 0.3));\n",
              "      fill: #FFFFFF;\n",
              "    }\n",
              "  </style>\n",
              "\n",
              "      <script>\n",
              "        const buttonEl =\n",
              "          document.querySelector('#df-23b80db4-d7ba-4c2c-b4d7-27607ff6aaba button.colab-df-convert');\n",
              "        buttonEl.style.display =\n",
              "          google.colab.kernel.accessAllowed ? 'block' : 'none';\n",
              "\n",
              "        async function convertToInteractive(key) {\n",
              "          const element = document.querySelector('#df-23b80db4-d7ba-4c2c-b4d7-27607ff6aaba');\n",
              "          const dataTable =\n",
              "            await google.colab.kernel.invokeFunction('convertToInteractive',\n",
              "                                                     [key], {});\n",
              "          if (!dataTable) return;\n",
              "\n",
              "          const docLinkHtml = 'Like what you see? Visit the ' +\n",
              "            '<a target=\"_blank\" href=https://colab.research.google.com/notebooks/data_table.ipynb>data table notebook</a>'\n",
              "            + ' to learn more about interactive tables.';\n",
              "          element.innerHTML = '';\n",
              "          dataTable['output_type'] = 'display_data';\n",
              "          await google.colab.output.renderOutput(dataTable, element);\n",
              "          const docLink = document.createElement('div');\n",
              "          docLink.innerHTML = docLinkHtml;\n",
              "          element.appendChild(docLink);\n",
              "        }\n",
              "      </script>\n",
              "    </div>\n",
              "  </div>\n",
              "  "
            ]
          },
          "metadata": {},
          "execution_count": 231
        }
      ]
    },
    {
      "cell_type": "code",
      "source": [
        "playlist_df['Date_Added'] = playlist_df['Date_Added'].str[0:10] # Format the date column\n",
        "playlist_df['Date_Added'] = pd.to_datetime(playlist_df['Date_Added']) # Convert Date Column to datetime"
      ],
      "metadata": {
        "id": "KwXQ6ks5tbV-"
      },
      "execution_count": null,
      "outputs": []
    },
    {
      "cell_type": "code",
      "source": [
        "playlist_df.info()"
      ],
      "metadata": {
        "colab": {
          "base_uri": "https://localhost:8080/"
        },
        "id": "wLedCvYnuIgl",
        "outputId": "79189d28-16ae-4ce5-8ada-173054cc8721"
      },
      "execution_count": null,
      "outputs": [
        {
          "output_type": "stream",
          "name": "stdout",
          "text": [
            "<class 'pandas.core.frame.DataFrame'>\n",
            "Int64Index: 184 entries, 0 to 199\n",
            "Data columns (total 9 columns):\n",
            " #   Column             Non-Null Count  Dtype         \n",
            "---  ------             --------------  -----         \n",
            " 0   Track_Name         184 non-null    object        \n",
            " 1   Artist             184 non-null    object        \n",
            " 2   Date_Added         184 non-null    datetime64[ns]\n",
            " 3   lyrics             184 non-null    object        \n",
            " 4   sentiment_scores   184 non-null    float64       \n",
            " 5   overall_sentiment  184 non-null    object        \n",
            " 6   pos                184 non-null    float64       \n",
            " 7   neg                184 non-null    float64       \n",
            " 8   neu                184 non-null    float64       \n",
            "dtypes: datetime64[ns](1), float64(4), object(4)\n",
            "memory usage: 14.4+ KB\n"
          ]
        }
      ]
    },
    {
      "cell_type": "code",
      "source": [
        "playlist_df = playlist_df.sort_values(by=['Date_Added'])"
      ],
      "metadata": {
        "id": "TcoSSvnlweQJ"
      },
      "execution_count": null,
      "outputs": []
    },
    {
      "cell_type": "code",
      "source": [
        "playlist_df"
      ],
      "metadata": {
        "colab": {
          "base_uri": "https://localhost:8080/",
          "height": 607
        },
        "id": "UYYJ_u5twxQg",
        "outputId": "af2aa882-9700-448e-cbe8-24848fb7de77"
      },
      "execution_count": null,
      "outputs": [
        {
          "output_type": "execute_result",
          "data": {
            "text/plain": [
              "                                            Track_Name  \\\n",
              "199                                  Super Freaky Girl   \n",
              "195                                     Hello, It's Me   \n",
              "198                This Woman's Work - Remastered 2021   \n",
              "197                                        Sweet Thing   \n",
              "196  The Sweetest Thing (feat. Lauryn Hill) - From ...   \n",
              "..                                                 ...   \n",
              "5                                       THAT'S MY GIRL   \n",
              "3                                                 Baby   \n",
              "2                                       So You Can Cry   \n",
              "1                                            SKELETONS   \n",
              "0                                              You Up?   \n",
              "\n",
              "                     Artist Date_Added  \\\n",
              "199             Nicki Minaj 2022-08-17   \n",
              "195           Groove Theory 2022-08-17   \n",
              "198                 Maxwell 2022-08-17   \n",
              "197                   Rufus 2022-08-17   \n",
              "196  Refugee Camp All-Stars 2022-08-17   \n",
              "..                      ...        ...   \n",
              "5              Frank Sativa 2023-02-05   \n",
              "3             Summer Walker 2023-02-06   \n",
              "2                     Ne-Yo 2023-02-07   \n",
              "1              Travis Scott 2023-02-10   \n",
              "0               Johan Lenox 2023-02-12   \n",
              "\n",
              "                                                lyrics  sentiment_scores  \\\n",
              "199  She's alright\\nThat girl's alright with me, ye...            0.0934   \n",
              "195  Hello it's me,\\nI've thought about us for a lo...           -0.7564   \n",
              "198  Pray God you can cope\\nI'll stand outside\\nThi...            0.8474   \n",
              "197  I will love you any way\\nEven if you cannot st...            0.9461   \n",
              "196  The sweetest thing I've ever known\\nWas like t...            0.9636   \n",
              "..                                                 ...               ...   \n",
              "5    Oh, that's my girl (my girl)\\nCall me when she...            0.0000   \n",
              "3    You got my heart working overtime\\nYou got my ...            0.8625   \n",
              "2    So it's over\\nHe's with someone else and you k...           -0.3078   \n",
              "1    Yeah, yeah, yeah (Yeah, ooh)\\n\\nFeels like slo...            0.9559   \n",
              "0    You up?\\nLiquor got me thinking I'm in love\\nI...            0.6199   \n",
              "\n",
              "    overall_sentiment    pos    neg    neu  \n",
              "199          Positive  0.079  0.067  0.853  \n",
              "195          Negative  0.053  0.112  0.834  \n",
              "198          Positive  0.124  0.030  0.847  \n",
              "197          Positive  0.190  0.042  0.768  \n",
              "196          Positive  0.239  0.074  0.687  \n",
              "..                ...    ...    ...    ...  \n",
              "5             Neutral  0.000  0.000  1.000  \n",
              "3            Positive  0.248  0.054  0.698  \n",
              "2            Negative  0.107  0.095  0.798  \n",
              "1            Positive  0.406  0.000  0.594  \n",
              "0            Positive  0.146  0.121  0.733  \n",
              "\n",
              "[184 rows x 9 columns]"
            ],
            "text/html": [
              "\n",
              "  <div id=\"df-9400ea71-5c91-408b-a964-0dcc518f0e0c\">\n",
              "    <div class=\"colab-df-container\">\n",
              "      <div>\n",
              "<style scoped>\n",
              "    .dataframe tbody tr th:only-of-type {\n",
              "        vertical-align: middle;\n",
              "    }\n",
              "\n",
              "    .dataframe tbody tr th {\n",
              "        vertical-align: top;\n",
              "    }\n",
              "\n",
              "    .dataframe thead th {\n",
              "        text-align: right;\n",
              "    }\n",
              "</style>\n",
              "<table border=\"1\" class=\"dataframe\">\n",
              "  <thead>\n",
              "    <tr style=\"text-align: right;\">\n",
              "      <th></th>\n",
              "      <th>Track_Name</th>\n",
              "      <th>Artist</th>\n",
              "      <th>Date_Added</th>\n",
              "      <th>lyrics</th>\n",
              "      <th>sentiment_scores</th>\n",
              "      <th>overall_sentiment</th>\n",
              "      <th>pos</th>\n",
              "      <th>neg</th>\n",
              "      <th>neu</th>\n",
              "    </tr>\n",
              "  </thead>\n",
              "  <tbody>\n",
              "    <tr>\n",
              "      <th>199</th>\n",
              "      <td>Super Freaky Girl</td>\n",
              "      <td>Nicki Minaj</td>\n",
              "      <td>2022-08-17</td>\n",
              "      <td>She's alright\\nThat girl's alright with me, ye...</td>\n",
              "      <td>0.0934</td>\n",
              "      <td>Positive</td>\n",
              "      <td>0.079</td>\n",
              "      <td>0.067</td>\n",
              "      <td>0.853</td>\n",
              "    </tr>\n",
              "    <tr>\n",
              "      <th>195</th>\n",
              "      <td>Hello, It's Me</td>\n",
              "      <td>Groove Theory</td>\n",
              "      <td>2022-08-17</td>\n",
              "      <td>Hello it's me,\\nI've thought about us for a lo...</td>\n",
              "      <td>-0.7564</td>\n",
              "      <td>Negative</td>\n",
              "      <td>0.053</td>\n",
              "      <td>0.112</td>\n",
              "      <td>0.834</td>\n",
              "    </tr>\n",
              "    <tr>\n",
              "      <th>198</th>\n",
              "      <td>This Woman's Work - Remastered 2021</td>\n",
              "      <td>Maxwell</td>\n",
              "      <td>2022-08-17</td>\n",
              "      <td>Pray God you can cope\\nI'll stand outside\\nThi...</td>\n",
              "      <td>0.8474</td>\n",
              "      <td>Positive</td>\n",
              "      <td>0.124</td>\n",
              "      <td>0.030</td>\n",
              "      <td>0.847</td>\n",
              "    </tr>\n",
              "    <tr>\n",
              "      <th>197</th>\n",
              "      <td>Sweet Thing</td>\n",
              "      <td>Rufus</td>\n",
              "      <td>2022-08-17</td>\n",
              "      <td>I will love you any way\\nEven if you cannot st...</td>\n",
              "      <td>0.9461</td>\n",
              "      <td>Positive</td>\n",
              "      <td>0.190</td>\n",
              "      <td>0.042</td>\n",
              "      <td>0.768</td>\n",
              "    </tr>\n",
              "    <tr>\n",
              "      <th>196</th>\n",
              "      <td>The Sweetest Thing (feat. Lauryn Hill) - From ...</td>\n",
              "      <td>Refugee Camp All-Stars</td>\n",
              "      <td>2022-08-17</td>\n",
              "      <td>The sweetest thing I've ever known\\nWas like t...</td>\n",
              "      <td>0.9636</td>\n",
              "      <td>Positive</td>\n",
              "      <td>0.239</td>\n",
              "      <td>0.074</td>\n",
              "      <td>0.687</td>\n",
              "    </tr>\n",
              "    <tr>\n",
              "      <th>...</th>\n",
              "      <td>...</td>\n",
              "      <td>...</td>\n",
              "      <td>...</td>\n",
              "      <td>...</td>\n",
              "      <td>...</td>\n",
              "      <td>...</td>\n",
              "      <td>...</td>\n",
              "      <td>...</td>\n",
              "      <td>...</td>\n",
              "    </tr>\n",
              "    <tr>\n",
              "      <th>5</th>\n",
              "      <td>THAT'S MY GIRL</td>\n",
              "      <td>Frank Sativa</td>\n",
              "      <td>2023-02-05</td>\n",
              "      <td>Oh, that's my girl (my girl)\\nCall me when she...</td>\n",
              "      <td>0.0000</td>\n",
              "      <td>Neutral</td>\n",
              "      <td>0.000</td>\n",
              "      <td>0.000</td>\n",
              "      <td>1.000</td>\n",
              "    </tr>\n",
              "    <tr>\n",
              "      <th>3</th>\n",
              "      <td>Baby</td>\n",
              "      <td>Summer Walker</td>\n",
              "      <td>2023-02-06</td>\n",
              "      <td>You got my heart working overtime\\nYou got my ...</td>\n",
              "      <td>0.8625</td>\n",
              "      <td>Positive</td>\n",
              "      <td>0.248</td>\n",
              "      <td>0.054</td>\n",
              "      <td>0.698</td>\n",
              "    </tr>\n",
              "    <tr>\n",
              "      <th>2</th>\n",
              "      <td>So You Can Cry</td>\n",
              "      <td>Ne-Yo</td>\n",
              "      <td>2023-02-07</td>\n",
              "      <td>So it's over\\nHe's with someone else and you k...</td>\n",
              "      <td>-0.3078</td>\n",
              "      <td>Negative</td>\n",
              "      <td>0.107</td>\n",
              "      <td>0.095</td>\n",
              "      <td>0.798</td>\n",
              "    </tr>\n",
              "    <tr>\n",
              "      <th>1</th>\n",
              "      <td>SKELETONS</td>\n",
              "      <td>Travis Scott</td>\n",
              "      <td>2023-02-10</td>\n",
              "      <td>Yeah, yeah, yeah (Yeah, ooh)\\n\\nFeels like slo...</td>\n",
              "      <td>0.9559</td>\n",
              "      <td>Positive</td>\n",
              "      <td>0.406</td>\n",
              "      <td>0.000</td>\n",
              "      <td>0.594</td>\n",
              "    </tr>\n",
              "    <tr>\n",
              "      <th>0</th>\n",
              "      <td>You Up?</td>\n",
              "      <td>Johan Lenox</td>\n",
              "      <td>2023-02-12</td>\n",
              "      <td>You up?\\nLiquor got me thinking I'm in love\\nI...</td>\n",
              "      <td>0.6199</td>\n",
              "      <td>Positive</td>\n",
              "      <td>0.146</td>\n",
              "      <td>0.121</td>\n",
              "      <td>0.733</td>\n",
              "    </tr>\n",
              "  </tbody>\n",
              "</table>\n",
              "<p>184 rows × 9 columns</p>\n",
              "</div>\n",
              "      <button class=\"colab-df-convert\" onclick=\"convertToInteractive('df-9400ea71-5c91-408b-a964-0dcc518f0e0c')\"\n",
              "              title=\"Convert this dataframe to an interactive table.\"\n",
              "              style=\"display:none;\">\n",
              "        \n",
              "  <svg xmlns=\"http://www.w3.org/2000/svg\" height=\"24px\"viewBox=\"0 0 24 24\"\n",
              "       width=\"24px\">\n",
              "    <path d=\"M0 0h24v24H0V0z\" fill=\"none\"/>\n",
              "    <path d=\"M18.56 5.44l.94 2.06.94-2.06 2.06-.94-2.06-.94-.94-2.06-.94 2.06-2.06.94zm-11 1L8.5 8.5l.94-2.06 2.06-.94-2.06-.94L8.5 2.5l-.94 2.06-2.06.94zm10 10l.94 2.06.94-2.06 2.06-.94-2.06-.94-.94-2.06-.94 2.06-2.06.94z\"/><path d=\"M17.41 7.96l-1.37-1.37c-.4-.4-.92-.59-1.43-.59-.52 0-1.04.2-1.43.59L10.3 9.45l-7.72 7.72c-.78.78-.78 2.05 0 2.83L4 21.41c.39.39.9.59 1.41.59.51 0 1.02-.2 1.41-.59l7.78-7.78 2.81-2.81c.8-.78.8-2.07 0-2.86zM5.41 20L4 18.59l7.72-7.72 1.47 1.35L5.41 20z\"/>\n",
              "  </svg>\n",
              "      </button>\n",
              "      \n",
              "  <style>\n",
              "    .colab-df-container {\n",
              "      display:flex;\n",
              "      flex-wrap:wrap;\n",
              "      gap: 12px;\n",
              "    }\n",
              "\n",
              "    .colab-df-convert {\n",
              "      background-color: #E8F0FE;\n",
              "      border: none;\n",
              "      border-radius: 50%;\n",
              "      cursor: pointer;\n",
              "      display: none;\n",
              "      fill: #1967D2;\n",
              "      height: 32px;\n",
              "      padding: 0 0 0 0;\n",
              "      width: 32px;\n",
              "    }\n",
              "\n",
              "    .colab-df-convert:hover {\n",
              "      background-color: #E2EBFA;\n",
              "      box-shadow: 0px 1px 2px rgba(60, 64, 67, 0.3), 0px 1px 3px 1px rgba(60, 64, 67, 0.15);\n",
              "      fill: #174EA6;\n",
              "    }\n",
              "\n",
              "    [theme=dark] .colab-df-convert {\n",
              "      background-color: #3B4455;\n",
              "      fill: #D2E3FC;\n",
              "    }\n",
              "\n",
              "    [theme=dark] .colab-df-convert:hover {\n",
              "      background-color: #434B5C;\n",
              "      box-shadow: 0px 1px 3px 1px rgba(0, 0, 0, 0.15);\n",
              "      filter: drop-shadow(0px 1px 2px rgba(0, 0, 0, 0.3));\n",
              "      fill: #FFFFFF;\n",
              "    }\n",
              "  </style>\n",
              "\n",
              "      <script>\n",
              "        const buttonEl =\n",
              "          document.querySelector('#df-9400ea71-5c91-408b-a964-0dcc518f0e0c button.colab-df-convert');\n",
              "        buttonEl.style.display =\n",
              "          google.colab.kernel.accessAllowed ? 'block' : 'none';\n",
              "\n",
              "        async function convertToInteractive(key) {\n",
              "          const element = document.querySelector('#df-9400ea71-5c91-408b-a964-0dcc518f0e0c');\n",
              "          const dataTable =\n",
              "            await google.colab.kernel.invokeFunction('convertToInteractive',\n",
              "                                                     [key], {});\n",
              "          if (!dataTable) return;\n",
              "\n",
              "          const docLinkHtml = 'Like what you see? Visit the ' +\n",
              "            '<a target=\"_blank\" href=https://colab.research.google.com/notebooks/data_table.ipynb>data table notebook</a>'\n",
              "            + ' to learn more about interactive tables.';\n",
              "          element.innerHTML = '';\n",
              "          dataTable['output_type'] = 'display_data';\n",
              "          await google.colab.output.renderOutput(dataTable, element);\n",
              "          const docLink = document.createElement('div');\n",
              "          docLink.innerHTML = docLinkHtml;\n",
              "          element.appendChild(docLink);\n",
              "        }\n",
              "      </script>\n",
              "    </div>\n",
              "  </div>\n",
              "  "
            ]
          },
          "metadata": {},
          "execution_count": 235
        }
      ]
    },
    {
      "cell_type": "code",
      "source": [
        "import plotly.express as px\n",
        " \n",
        "# Loading the iris dataset\n",
        " \n",
        "fig = px.bar(playlist_df, x=\"Track_Name\", y=\"sentiment_scores\")\n",
        "fig.show()"
      ],
      "metadata": {
        "id": "nqXIoQRsYxkd",
        "colab": {
          "base_uri": "https://localhost:8080/",
          "height": 542
        },
        "outputId": "ff5c003f-2ad4-4611-b122-d53da9cb17f7"
      },
      "execution_count": null,
      "outputs": [
        {
          "output_type": "display_data",
          "data": {
            "text/html": [
              "<html>\n",
              "<head><meta charset=\"utf-8\" /></head>\n",
              "<body>\n",
              "    <div>            <script src=\"https://cdnjs.cloudflare.com/ajax/libs/mathjax/2.7.5/MathJax.js?config=TeX-AMS-MML_SVG\"></script><script type=\"text/javascript\">if (window.MathJax) {MathJax.Hub.Config({SVG: {font: \"STIX-Web\"}});}</script>                <script type=\"text/javascript\">window.PlotlyConfig = {MathJaxConfig: 'local'};</script>\n",
              "        <script src=\"https://cdn.plot.ly/plotly-2.8.3.min.js\"></script>                <div id=\"4cf6b0a8-089b-4db5-9bab-59bc1c619dd7\" class=\"plotly-graph-div\" style=\"height:525px; width:100%;\"></div>            <script type=\"text/javascript\">                                    window.PLOTLYENV=window.PLOTLYENV || {};                                    if (document.getElementById(\"4cf6b0a8-089b-4db5-9bab-59bc1c619dd7\")) {                    Plotly.newPlot(                        \"4cf6b0a8-089b-4db5-9bab-59bc1c619dd7\",                        [{\"alignmentgroup\":\"True\",\"hovertemplate\":\"Track_Name=%{x}<br>sentiment_scores=%{y}<extra></extra>\",\"legendgroup\":\"\",\"marker\":{\"color\":\"#636efa\",\"pattern\":{\"shape\":\"\"}},\"name\":\"\",\"offsetgroup\":\"\",\"orientation\":\"v\",\"showlegend\":false,\"textposition\":\"auto\",\"x\":[\"Super Freaky Girl\",\"Hello, It's Me\",\"This Woman's Work - Remastered 2021\",\"Sweet Thing\",\"The Sweetest Thing (feat. Lauryn Hill) - From the New Line Cinema film \\\"Love Jones\\\"\",\"This Place Hotel (a.k.a. Heartbreak Hotel)\",\"Black Qualls - Single Version\",\"This Will Be (An Everlasting Love)\",\"Lonely\",\"Kiss of Life\",\"Girl Like Me (feat. H.E.R.)\",\"Dark Fantasy\",\"Saving All My Love for You\",\"Insecure\",\"Be Your Girl\",\"Poison\",\"PARTY (feat. Quavo & Takeoff)\",\"STAYING ALIVE (feat. Drake & Lil Baby)\",\"BEAUTIFUL (feat. Future & SZA)\",\"WAY PAST LUCK (feat. 21 Savage)\",\"NO SECRET (feat. Drake)\",\"Ain't Gonna Hurt Nobody\",\"Just To Keep You Satisfied - A Cappella W/ Alternative Vocal\",\"Once You Know (Then You'll Know)\",\"Happy and Well\",\"For Now\",\"Lady Love\",\"Trade of Hearts\",\"Garden Kisses\",\"By The Time I Get To Phoenix - Remastered 2001\",\"Don't Go Breaking My Heart\",\"U-Love\",\"Put Your Hands Where My Eyes Could See\",\"Comfortable\",\"There\\u2019d Better Be A Mirrorball\",\"U Don't Have to Call\",\"No Surprises\",\"Evergreen (You Didn\\u2019t Deserve Me At All)\",\"Fuck Love (feat. Trippie Redd)\",\"Fallin' in Love\",\"Bad To Me\",\"One More Chance\",\"No One In the World\",\"IT'S YOU (feat. keshi)\",\"Redemption\",\"hate will never win\",\"You're the Only Good Thing in My Life\",\"Same Ol' G\",\"Everything Belongs To You\",\"Still Dreaming\",\"Won't Be Late (feat. Drake)\",\"Defend\",\"Under Control\",\"Orbit\",\"Everything\",\"Endlessly\",\"Blowing Me Kisses\",\"Your Precious Love\",\"Bistro\",\"III. Urn\",\"So in Love with You\",\"Risin' to the Top\",\"I Forgot To Be Your Lover\",\"A Fork In The Road\",\"The Way We Were / Try to Remember\",\"The Bells\",\"Spread Thin\",\"BPW\",\"FREAK IN YOU\",\"Make It Out\",\"Malinda\",\"Free Yourself (feat. Missy Elliott)\",\"Heaven in My Eyes\",\"Fabulous\",\"Differences\",\"I Heard It Through The Grapevine\",\"EveryGirl In The World\",\"We Belong Together\",\"Sierra Leone\",\"Count Me Out\",\"Am I Losing You\",\"Nobody But You\",\"Mr Valentine\",\"Lost in the Fire (feat. The Weeknd)\",\"P.S. I LOVE YOU\",\"Sexy Boy (Shawn Michaels)\",\"90 Proof (with J. Cole)\",\"Pussy & Millions (feat. Travis Scott)\",\"Middle of the Ocean\",\"I Guess It\\u2019s Fuck Me\",\"Respect the Game\",\"Superwoman (Where Were You When I Needed You)\",\"El Baile del Beeper - Version Mexico\",\"Can't Wait\",\"Major Distribution\",\"Sandstorm (feat. JID)\",\"La Vida\",\"The Party & The After Party\",\"Didn't Cha Know\",\"Loose\",\"Talk 2 U\",\"Midnight Pretenders\",\"Eyes Without A Face\",\"Tighten Up, Pt. 1\",\"Too Many Tears\",\"Darlin' Darlin' Baby (Sweet, Tender, Love)\",\"Creepin' (with The Weeknd & 21 Savage)\",\"Could've Been (feat. Bryson Tiller)\",\"Another Again\",\"Me and Your Mama\",\"The Makings of You\",\"What Do The Lonely Do At Christmas?\",\"Someday At Christmas\",\"Forgiveless (feat. Ol' Dirty Bastard)\",\"Open Arms (feat. Travis Scott)\",\"Far\",\"Too Late\",\"Nobody Gets Me\",\"Smoking on my Ex Pack\",\"Used (feat. Don Toliver)\",\"Snooze\",\"Notice Me\",\"SOS\",\"Blind\",\"Seek & Destroy\",\"Kill Bill\",\"One Day In Your Life\",\"Parado no Bail\\u00e3o\",\"Like a Tattoo\",\"Love U\",\"profile\",\"Red Red Wine\",\"Don't Be Cruel\",\"Lead the Way\",\"If You Think You're Lonely Now\",\"Traffic In The Sky\",\"Thinking out Loud\",\"Jungle\",\"Do or Die (feat. Liana Banks)\",\"Your Love Is King\",\"I'm on Fire\",\"Right and a Wrong Way\",\"Feel The Fiyaaaah (with A$AP Rocky & feat. Takeoff)\",\"Why I Love You So Much\",\"I'd Rather Go Blind\",\"Giving Up On Love\",\"Burn One (Interlude)\",\"Together Let's Find Love - Digitally Remastered 1997\",\"Senior Skip Day\",\"You Make Me Feel Brand New\",\"Gonna Love Me\",\"The Less I Know The Better\",\"It's A Wrap\",\"Issues/Hold On\",\"There's Nothing I Can Do About It\",\"Yes. I'm Ready\",\"My Way - 2008 Remastered\",\"Get It Together\",\"Whoopy\",\"Break from Toronto\",\"Fire And Desire\",\"She Ain't You\",\"I Can't Stop Loving You\",\"Crowns for Kings (Feat. Black Thought)\",\"Demonz (feat. Brent Faiyaz) - Interlude\",\"Missin Out\",\"Trance (with Travis Scott & Young Thug)\",\"Crazy Tings\",\"30/90\",\"Not You Too (feat. Chris Brown)\",\"La Vida Es Fr\\u00eda\",\"Somebody Else\",\"Coming Down\",\"Views\",\"3005\",\"A Love of Your Own\",\"Beautiful People\",\"Perdido de Amor [Lost in Love]\",\"A Bird's Last Look\",\"THAT'S MY GIRL\",\"Baby\",\"So You Can Cry\",\"SKELETONS\",\"You Up?\"],\"xaxis\":\"x\",\"y\":[0.0934,-0.7564,0.8474,0.9461,0.9636,-0.1531,0.8679,0.9934,-0.9874,0.9705,-0.9149,-0.7236,0.7364,-0.504,0.9121,0.9269,0.9981,-0.7584,0.9717,0.9432,0.7845,0.9887,0.8834,0.8971,0.9702,0.873,0.9931,0.9854,0.6108,0.5574,0.9881,0.9738,-0.511,0.9703,0.9425,0.9568,-0.5603,-0.8619,0.5853,0.9839,0.9641,0.9956,0.9755,0.9574,0.9811,0.9903,0.2023,0.9311,0.2023,0.9316,-0.7398,-0.8865,0.94,0.9256,0.9953,0.6921,0.9766,0.9914,0.7184,0.0,0.9737,0.4614,0.9752,-0.4019,0.9136,0.7906,0.7429,0.5216,-0.8326,0.5927,0.886,0.9075,0.9528,0.9382,0.9899,0.7937,-0.5638,0.4019,0.6808,-0.8249,-0.9035,-0.1926,0.7399,0.3711,0.9833,0.9638,0.9777,-0.8593,-0.6748,-0.9633,-0.7877,0.9845,0.4724,-0.9504,-0.8347,-0.9582,0.0,0.7709,-0.4601,-0.8485,-0.4329,0.9698,-0.6951,0.967,0.9337,0.9843,0.7003,0.7343,0.956,0.989,0.9668,-0.5121,0.9786,-0.9481,0.649,0.1734,-0.9593,0.7498,0.8396,0.9551,0.6689,0.9405,-0.2916,-0.6602,-0.959,0.6335,0.6369,-0.9314,-0.6597,-0.296,0.9732,-0.2732,0.9881,0.6369,-0.9517,0.2374,0.9851,0.8114,0.7003,0.9941,-0.8996,0.9911,0.9775,0.965,-0.7906,0.9148,0.5917,0.9565,-0.6124,0.9849,0.8268,0.9161,-0.9447,0.9276,-0.2447,0.9943,0.4019,0.9805,-0.1531,-0.802,0.9805,0.8652,0.7463,-0.6715,-0.3147,0.3678,0.9661,0.1531,-0.6745,0.8657,0.5499,-0.4879,-0.9659,-0.3582,-0.9202,0.983,0.9866,0.6124,0.0,0.0,0.8625,-0.3078,0.9559,0.6199],\"yaxis\":\"y\",\"type\":\"bar\"}],                        {\"template\":{\"data\":{\"bar\":[{\"error_x\":{\"color\":\"#2a3f5f\"},\"error_y\":{\"color\":\"#2a3f5f\"},\"marker\":{\"line\":{\"color\":\"#E5ECF6\",\"width\":0.5},\"pattern\":{\"fillmode\":\"overlay\",\"size\":10,\"solidity\":0.2}},\"type\":\"bar\"}],\"barpolar\":[{\"marker\":{\"line\":{\"color\":\"#E5ECF6\",\"width\":0.5},\"pattern\":{\"fillmode\":\"overlay\",\"size\":10,\"solidity\":0.2}},\"type\":\"barpolar\"}],\"carpet\":[{\"aaxis\":{\"endlinecolor\":\"#2a3f5f\",\"gridcolor\":\"white\",\"linecolor\":\"white\",\"minorgridcolor\":\"white\",\"startlinecolor\":\"#2a3f5f\"},\"baxis\":{\"endlinecolor\":\"#2a3f5f\",\"gridcolor\":\"white\",\"linecolor\":\"white\",\"minorgridcolor\":\"white\",\"startlinecolor\":\"#2a3f5f\"},\"type\":\"carpet\"}],\"choropleth\":[{\"colorbar\":{\"outlinewidth\":0,\"ticks\":\"\"},\"type\":\"choropleth\"}],\"contour\":[{\"colorbar\":{\"outlinewidth\":0,\"ticks\":\"\"},\"colorscale\":[[0.0,\"#0d0887\"],[0.1111111111111111,\"#46039f\"],[0.2222222222222222,\"#7201a8\"],[0.3333333333333333,\"#9c179e\"],[0.4444444444444444,\"#bd3786\"],[0.5555555555555556,\"#d8576b\"],[0.6666666666666666,\"#ed7953\"],[0.7777777777777778,\"#fb9f3a\"],[0.8888888888888888,\"#fdca26\"],[1.0,\"#f0f921\"]],\"type\":\"contour\"}],\"contourcarpet\":[{\"colorbar\":{\"outlinewidth\":0,\"ticks\":\"\"},\"type\":\"contourcarpet\"}],\"heatmap\":[{\"colorbar\":{\"outlinewidth\":0,\"ticks\":\"\"},\"colorscale\":[[0.0,\"#0d0887\"],[0.1111111111111111,\"#46039f\"],[0.2222222222222222,\"#7201a8\"],[0.3333333333333333,\"#9c179e\"],[0.4444444444444444,\"#bd3786\"],[0.5555555555555556,\"#d8576b\"],[0.6666666666666666,\"#ed7953\"],[0.7777777777777778,\"#fb9f3a\"],[0.8888888888888888,\"#fdca26\"],[1.0,\"#f0f921\"]],\"type\":\"heatmap\"}],\"heatmapgl\":[{\"colorbar\":{\"outlinewidth\":0,\"ticks\":\"\"},\"colorscale\":[[0.0,\"#0d0887\"],[0.1111111111111111,\"#46039f\"],[0.2222222222222222,\"#7201a8\"],[0.3333333333333333,\"#9c179e\"],[0.4444444444444444,\"#bd3786\"],[0.5555555555555556,\"#d8576b\"],[0.6666666666666666,\"#ed7953\"],[0.7777777777777778,\"#fb9f3a\"],[0.8888888888888888,\"#fdca26\"],[1.0,\"#f0f921\"]],\"type\":\"heatmapgl\"}],\"histogram\":[{\"marker\":{\"pattern\":{\"fillmode\":\"overlay\",\"size\":10,\"solidity\":0.2}},\"type\":\"histogram\"}],\"histogram2d\":[{\"colorbar\":{\"outlinewidth\":0,\"ticks\":\"\"},\"colorscale\":[[0.0,\"#0d0887\"],[0.1111111111111111,\"#46039f\"],[0.2222222222222222,\"#7201a8\"],[0.3333333333333333,\"#9c179e\"],[0.4444444444444444,\"#bd3786\"],[0.5555555555555556,\"#d8576b\"],[0.6666666666666666,\"#ed7953\"],[0.7777777777777778,\"#fb9f3a\"],[0.8888888888888888,\"#fdca26\"],[1.0,\"#f0f921\"]],\"type\":\"histogram2d\"}],\"histogram2dcontour\":[{\"colorbar\":{\"outlinewidth\":0,\"ticks\":\"\"},\"colorscale\":[[0.0,\"#0d0887\"],[0.1111111111111111,\"#46039f\"],[0.2222222222222222,\"#7201a8\"],[0.3333333333333333,\"#9c179e\"],[0.4444444444444444,\"#bd3786\"],[0.5555555555555556,\"#d8576b\"],[0.6666666666666666,\"#ed7953\"],[0.7777777777777778,\"#fb9f3a\"],[0.8888888888888888,\"#fdca26\"],[1.0,\"#f0f921\"]],\"type\":\"histogram2dcontour\"}],\"mesh3d\":[{\"colorbar\":{\"outlinewidth\":0,\"ticks\":\"\"},\"type\":\"mesh3d\"}],\"parcoords\":[{\"line\":{\"colorbar\":{\"outlinewidth\":0,\"ticks\":\"\"}},\"type\":\"parcoords\"}],\"pie\":[{\"automargin\":true,\"type\":\"pie\"}],\"scatter\":[{\"marker\":{\"colorbar\":{\"outlinewidth\":0,\"ticks\":\"\"}},\"type\":\"scatter\"}],\"scatter3d\":[{\"line\":{\"colorbar\":{\"outlinewidth\":0,\"ticks\":\"\"}},\"marker\":{\"colorbar\":{\"outlinewidth\":0,\"ticks\":\"\"}},\"type\":\"scatter3d\"}],\"scattercarpet\":[{\"marker\":{\"colorbar\":{\"outlinewidth\":0,\"ticks\":\"\"}},\"type\":\"scattercarpet\"}],\"scattergeo\":[{\"marker\":{\"colorbar\":{\"outlinewidth\":0,\"ticks\":\"\"}},\"type\":\"scattergeo\"}],\"scattergl\":[{\"marker\":{\"colorbar\":{\"outlinewidth\":0,\"ticks\":\"\"}},\"type\":\"scattergl\"}],\"scattermapbox\":[{\"marker\":{\"colorbar\":{\"outlinewidth\":0,\"ticks\":\"\"}},\"type\":\"scattermapbox\"}],\"scatterpolar\":[{\"marker\":{\"colorbar\":{\"outlinewidth\":0,\"ticks\":\"\"}},\"type\":\"scatterpolar\"}],\"scatterpolargl\":[{\"marker\":{\"colorbar\":{\"outlinewidth\":0,\"ticks\":\"\"}},\"type\":\"scatterpolargl\"}],\"scatterternary\":[{\"marker\":{\"colorbar\":{\"outlinewidth\":0,\"ticks\":\"\"}},\"type\":\"scatterternary\"}],\"surface\":[{\"colorbar\":{\"outlinewidth\":0,\"ticks\":\"\"},\"colorscale\":[[0.0,\"#0d0887\"],[0.1111111111111111,\"#46039f\"],[0.2222222222222222,\"#7201a8\"],[0.3333333333333333,\"#9c179e\"],[0.4444444444444444,\"#bd3786\"],[0.5555555555555556,\"#d8576b\"],[0.6666666666666666,\"#ed7953\"],[0.7777777777777778,\"#fb9f3a\"],[0.8888888888888888,\"#fdca26\"],[1.0,\"#f0f921\"]],\"type\":\"surface\"}],\"table\":[{\"cells\":{\"fill\":{\"color\":\"#EBF0F8\"},\"line\":{\"color\":\"white\"}},\"header\":{\"fill\":{\"color\":\"#C8D4E3\"},\"line\":{\"color\":\"white\"}},\"type\":\"table\"}]},\"layout\":{\"annotationdefaults\":{\"arrowcolor\":\"#2a3f5f\",\"arrowhead\":0,\"arrowwidth\":1},\"autotypenumbers\":\"strict\",\"coloraxis\":{\"colorbar\":{\"outlinewidth\":0,\"ticks\":\"\"}},\"colorscale\":{\"diverging\":[[0,\"#8e0152\"],[0.1,\"#c51b7d\"],[0.2,\"#de77ae\"],[0.3,\"#f1b6da\"],[0.4,\"#fde0ef\"],[0.5,\"#f7f7f7\"],[0.6,\"#e6f5d0\"],[0.7,\"#b8e186\"],[0.8,\"#7fbc41\"],[0.9,\"#4d9221\"],[1,\"#276419\"]],\"sequential\":[[0.0,\"#0d0887\"],[0.1111111111111111,\"#46039f\"],[0.2222222222222222,\"#7201a8\"],[0.3333333333333333,\"#9c179e\"],[0.4444444444444444,\"#bd3786\"],[0.5555555555555556,\"#d8576b\"],[0.6666666666666666,\"#ed7953\"],[0.7777777777777778,\"#fb9f3a\"],[0.8888888888888888,\"#fdca26\"],[1.0,\"#f0f921\"]],\"sequentialminus\":[[0.0,\"#0d0887\"],[0.1111111111111111,\"#46039f\"],[0.2222222222222222,\"#7201a8\"],[0.3333333333333333,\"#9c179e\"],[0.4444444444444444,\"#bd3786\"],[0.5555555555555556,\"#d8576b\"],[0.6666666666666666,\"#ed7953\"],[0.7777777777777778,\"#fb9f3a\"],[0.8888888888888888,\"#fdca26\"],[1.0,\"#f0f921\"]]},\"colorway\":[\"#636efa\",\"#EF553B\",\"#00cc96\",\"#ab63fa\",\"#FFA15A\",\"#19d3f3\",\"#FF6692\",\"#B6E880\",\"#FF97FF\",\"#FECB52\"],\"font\":{\"color\":\"#2a3f5f\"},\"geo\":{\"bgcolor\":\"white\",\"lakecolor\":\"white\",\"landcolor\":\"#E5ECF6\",\"showlakes\":true,\"showland\":true,\"subunitcolor\":\"white\"},\"hoverlabel\":{\"align\":\"left\"},\"hovermode\":\"closest\",\"mapbox\":{\"style\":\"light\"},\"paper_bgcolor\":\"white\",\"plot_bgcolor\":\"#E5ECF6\",\"polar\":{\"angularaxis\":{\"gridcolor\":\"white\",\"linecolor\":\"white\",\"ticks\":\"\"},\"bgcolor\":\"#E5ECF6\",\"radialaxis\":{\"gridcolor\":\"white\",\"linecolor\":\"white\",\"ticks\":\"\"}},\"scene\":{\"xaxis\":{\"backgroundcolor\":\"#E5ECF6\",\"gridcolor\":\"white\",\"gridwidth\":2,\"linecolor\":\"white\",\"showbackground\":true,\"ticks\":\"\",\"zerolinecolor\":\"white\"},\"yaxis\":{\"backgroundcolor\":\"#E5ECF6\",\"gridcolor\":\"white\",\"gridwidth\":2,\"linecolor\":\"white\",\"showbackground\":true,\"ticks\":\"\",\"zerolinecolor\":\"white\"},\"zaxis\":{\"backgroundcolor\":\"#E5ECF6\",\"gridcolor\":\"white\",\"gridwidth\":2,\"linecolor\":\"white\",\"showbackground\":true,\"ticks\":\"\",\"zerolinecolor\":\"white\"}},\"shapedefaults\":{\"line\":{\"color\":\"#2a3f5f\"}},\"ternary\":{\"aaxis\":{\"gridcolor\":\"white\",\"linecolor\":\"white\",\"ticks\":\"\"},\"baxis\":{\"gridcolor\":\"white\",\"linecolor\":\"white\",\"ticks\":\"\"},\"bgcolor\":\"#E5ECF6\",\"caxis\":{\"gridcolor\":\"white\",\"linecolor\":\"white\",\"ticks\":\"\"}},\"title\":{\"x\":0.05},\"xaxis\":{\"automargin\":true,\"gridcolor\":\"white\",\"linecolor\":\"white\",\"ticks\":\"\",\"title\":{\"standoff\":15},\"zerolinecolor\":\"white\",\"zerolinewidth\":2},\"yaxis\":{\"automargin\":true,\"gridcolor\":\"white\",\"linecolor\":\"white\",\"ticks\":\"\",\"title\":{\"standoff\":15},\"zerolinecolor\":\"white\",\"zerolinewidth\":2}}},\"xaxis\":{\"anchor\":\"y\",\"domain\":[0.0,1.0],\"title\":{\"text\":\"Track_Name\"}},\"yaxis\":{\"anchor\":\"x\",\"domain\":[0.0,1.0],\"title\":{\"text\":\"sentiment_scores\"}},\"legend\":{\"tracegroupgap\":0},\"margin\":{\"t\":60},\"barmode\":\"relative\"},                        {\"responsive\": true}                    ).then(function(){\n",
              "                            \n",
              "var gd = document.getElementById('4cf6b0a8-089b-4db5-9bab-59bc1c619dd7');\n",
              "var x = new MutationObserver(function (mutations, observer) {{\n",
              "        var display = window.getComputedStyle(gd).display;\n",
              "        if (!display || display === 'none') {{\n",
              "            console.log([gd, 'removed!']);\n",
              "            Plotly.purge(gd);\n",
              "            observer.disconnect();\n",
              "        }}\n",
              "}});\n",
              "\n",
              "// Listen for the removal of the full notebook cells\n",
              "var notebookContainer = gd.closest('#notebook-container');\n",
              "if (notebookContainer) {{\n",
              "    x.observe(notebookContainer, {childList: true});\n",
              "}}\n",
              "\n",
              "// Listen for the clearing of the current output cell\n",
              "var outputEl = gd.closest('.output');\n",
              "if (outputEl) {{\n",
              "    x.observe(outputEl, {childList: true});\n",
              "}}\n",
              "\n",
              "                        })                };                            </script>        </div>\n",
              "</body>\n",
              "</html>"
            ]
          },
          "metadata": {}
        }
      ]
    },
    {
      "cell_type": "code",
      "source": [
        "# Make column for month_year\n",
        "playlist_df['month_year'] = playlist_df['Date_Added'].dt.to_period('M')"
      ],
      "metadata": {
        "id": "yOOUjLq2lDcb"
      },
      "execution_count": null,
      "outputs": []
    },
    {
      "cell_type": "code",
      "source": [
        "len(playlist_df)"
      ],
      "metadata": {
        "colab": {
          "base_uri": "https://localhost:8080/"
        },
        "id": "zRXA1fg7lkm1",
        "outputId": "6460bef4-6e37-4c54-8892-599bf0e19656"
      },
      "execution_count": null,
      "outputs": [
        {
          "output_type": "execute_result",
          "data": {
            "text/plain": [
              "184"
            ]
          },
          "metadata": {},
          "execution_count": 238
        }
      ]
    },
    {
      "cell_type": "code",
      "source": [
        "month_years = playlist_df['month_year'].unique()\n",
        "month_years = sorted(month_years)"
      ],
      "metadata": {
        "id": "KnhYAZdYniot"
      },
      "execution_count": null,
      "outputs": []
    },
    {
      "cell_type": "code",
      "source": [
        "pos_df = playlist_df.groupby('month_year')['pos'].sum().to_frame()"
      ],
      "metadata": {
        "id": "7sRBXww1ltZk"
      },
      "execution_count": null,
      "outputs": []
    },
    {
      "cell_type": "code",
      "source": [
        "pos_df"
      ],
      "metadata": {
        "colab": {
          "base_uri": "https://localhost:8080/",
          "height": 300
        },
        "id": "L2scBONKpB8E",
        "outputId": "1115b18f-fd03-4dff-863f-d76d638ef895"
      },
      "execution_count": null,
      "outputs": [
        {
          "output_type": "execute_result",
          "data": {
            "text/plain": [
              "              pos\n",
              "month_year       \n",
              "2022-08     5.359\n",
              "2022-09     4.593\n",
              "2022-10     3.907\n",
              "2022-11     2.602\n",
              "2022-12     5.961\n",
              "2023-01     3.764\n",
              "2023-02     1.661"
            ],
            "text/html": [
              "\n",
              "  <div id=\"df-872a3c20-5955-4f45-a2d6-51511ed9f9b5\">\n",
              "    <div class=\"colab-df-container\">\n",
              "      <div>\n",
              "<style scoped>\n",
              "    .dataframe tbody tr th:only-of-type {\n",
              "        vertical-align: middle;\n",
              "    }\n",
              "\n",
              "    .dataframe tbody tr th {\n",
              "        vertical-align: top;\n",
              "    }\n",
              "\n",
              "    .dataframe thead th {\n",
              "        text-align: right;\n",
              "    }\n",
              "</style>\n",
              "<table border=\"1\" class=\"dataframe\">\n",
              "  <thead>\n",
              "    <tr style=\"text-align: right;\">\n",
              "      <th></th>\n",
              "      <th>pos</th>\n",
              "    </tr>\n",
              "    <tr>\n",
              "      <th>month_year</th>\n",
              "      <th></th>\n",
              "    </tr>\n",
              "  </thead>\n",
              "  <tbody>\n",
              "    <tr>\n",
              "      <th>2022-08</th>\n",
              "      <td>5.359</td>\n",
              "    </tr>\n",
              "    <tr>\n",
              "      <th>2022-09</th>\n",
              "      <td>4.593</td>\n",
              "    </tr>\n",
              "    <tr>\n",
              "      <th>2022-10</th>\n",
              "      <td>3.907</td>\n",
              "    </tr>\n",
              "    <tr>\n",
              "      <th>2022-11</th>\n",
              "      <td>2.602</td>\n",
              "    </tr>\n",
              "    <tr>\n",
              "      <th>2022-12</th>\n",
              "      <td>5.961</td>\n",
              "    </tr>\n",
              "    <tr>\n",
              "      <th>2023-01</th>\n",
              "      <td>3.764</td>\n",
              "    </tr>\n",
              "    <tr>\n",
              "      <th>2023-02</th>\n",
              "      <td>1.661</td>\n",
              "    </tr>\n",
              "  </tbody>\n",
              "</table>\n",
              "</div>\n",
              "      <button class=\"colab-df-convert\" onclick=\"convertToInteractive('df-872a3c20-5955-4f45-a2d6-51511ed9f9b5')\"\n",
              "              title=\"Convert this dataframe to an interactive table.\"\n",
              "              style=\"display:none;\">\n",
              "        \n",
              "  <svg xmlns=\"http://www.w3.org/2000/svg\" height=\"24px\"viewBox=\"0 0 24 24\"\n",
              "       width=\"24px\">\n",
              "    <path d=\"M0 0h24v24H0V0z\" fill=\"none\"/>\n",
              "    <path d=\"M18.56 5.44l.94 2.06.94-2.06 2.06-.94-2.06-.94-.94-2.06-.94 2.06-2.06.94zm-11 1L8.5 8.5l.94-2.06 2.06-.94-2.06-.94L8.5 2.5l-.94 2.06-2.06.94zm10 10l.94 2.06.94-2.06 2.06-.94-2.06-.94-.94-2.06-.94 2.06-2.06.94z\"/><path d=\"M17.41 7.96l-1.37-1.37c-.4-.4-.92-.59-1.43-.59-.52 0-1.04.2-1.43.59L10.3 9.45l-7.72 7.72c-.78.78-.78 2.05 0 2.83L4 21.41c.39.39.9.59 1.41.59.51 0 1.02-.2 1.41-.59l7.78-7.78 2.81-2.81c.8-.78.8-2.07 0-2.86zM5.41 20L4 18.59l7.72-7.72 1.47 1.35L5.41 20z\"/>\n",
              "  </svg>\n",
              "      </button>\n",
              "      \n",
              "  <style>\n",
              "    .colab-df-container {\n",
              "      display:flex;\n",
              "      flex-wrap:wrap;\n",
              "      gap: 12px;\n",
              "    }\n",
              "\n",
              "    .colab-df-convert {\n",
              "      background-color: #E8F0FE;\n",
              "      border: none;\n",
              "      border-radius: 50%;\n",
              "      cursor: pointer;\n",
              "      display: none;\n",
              "      fill: #1967D2;\n",
              "      height: 32px;\n",
              "      padding: 0 0 0 0;\n",
              "      width: 32px;\n",
              "    }\n",
              "\n",
              "    .colab-df-convert:hover {\n",
              "      background-color: #E2EBFA;\n",
              "      box-shadow: 0px 1px 2px rgba(60, 64, 67, 0.3), 0px 1px 3px 1px rgba(60, 64, 67, 0.15);\n",
              "      fill: #174EA6;\n",
              "    }\n",
              "\n",
              "    [theme=dark] .colab-df-convert {\n",
              "      background-color: #3B4455;\n",
              "      fill: #D2E3FC;\n",
              "    }\n",
              "\n",
              "    [theme=dark] .colab-df-convert:hover {\n",
              "      background-color: #434B5C;\n",
              "      box-shadow: 0px 1px 3px 1px rgba(0, 0, 0, 0.15);\n",
              "      filter: drop-shadow(0px 1px 2px rgba(0, 0, 0, 0.3));\n",
              "      fill: #FFFFFF;\n",
              "    }\n",
              "  </style>\n",
              "\n",
              "      <script>\n",
              "        const buttonEl =\n",
              "          document.querySelector('#df-872a3c20-5955-4f45-a2d6-51511ed9f9b5 button.colab-df-convert');\n",
              "        buttonEl.style.display =\n",
              "          google.colab.kernel.accessAllowed ? 'block' : 'none';\n",
              "\n",
              "        async function convertToInteractive(key) {\n",
              "          const element = document.querySelector('#df-872a3c20-5955-4f45-a2d6-51511ed9f9b5');\n",
              "          const dataTable =\n",
              "            await google.colab.kernel.invokeFunction('convertToInteractive',\n",
              "                                                     [key], {});\n",
              "          if (!dataTable) return;\n",
              "\n",
              "          const docLinkHtml = 'Like what you see? Visit the ' +\n",
              "            '<a target=\"_blank\" href=https://colab.research.google.com/notebooks/data_table.ipynb>data table notebook</a>'\n",
              "            + ' to learn more about interactive tables.';\n",
              "          element.innerHTML = '';\n",
              "          dataTable['output_type'] = 'display_data';\n",
              "          await google.colab.output.renderOutput(dataTable, element);\n",
              "          const docLink = document.createElement('div');\n",
              "          docLink.innerHTML = docLinkHtml;\n",
              "          element.appendChild(docLink);\n",
              "        }\n",
              "      </script>\n",
              "    </div>\n",
              "  </div>\n",
              "  "
            ]
          },
          "metadata": {},
          "execution_count": 241
        }
      ]
    },
    {
      "cell_type": "code",
      "source": [
        "pos_df['pos']"
      ],
      "metadata": {
        "colab": {
          "base_uri": "https://localhost:8080/"
        },
        "id": "XjAdb1EDpVEG",
        "outputId": "3c5986db-eb11-4a0e-e411-05e35542b2af"
      },
      "execution_count": null,
      "outputs": [
        {
          "output_type": "execute_result",
          "data": {
            "text/plain": [
              "month_year\n",
              "2022-08    5.359\n",
              "2022-09    4.593\n",
              "2022-10    3.907\n",
              "2022-11    2.602\n",
              "2022-12    5.961\n",
              "2023-01    3.764\n",
              "2023-02    1.661\n",
              "Freq: M, Name: pos, dtype: float64"
            ]
          },
          "metadata": {},
          "execution_count": 242
        }
      ]
    },
    {
      "cell_type": "code",
      "source": [
        "pos_df.describe()"
      ],
      "metadata": {
        "colab": {
          "base_uri": "https://localhost:8080/",
          "height": 300
        },
        "id": "9jmGKIM_oGRP",
        "outputId": "1459f6cb-3f68-4078-b2db-4a1e7dccf62e"
      },
      "execution_count": null,
      "outputs": [
        {
          "output_type": "execute_result",
          "data": {
            "text/plain": [
              "            pos\n",
              "count  7.000000\n",
              "mean   3.978143\n",
              "std    1.501687\n",
              "min    1.661000\n",
              "25%    3.183000\n",
              "50%    3.907000\n",
              "75%    4.976000\n",
              "max    5.961000"
            ],
            "text/html": [
              "\n",
              "  <div id=\"df-872e22cf-6c2e-42ab-8af4-006ef1326153\">\n",
              "    <div class=\"colab-df-container\">\n",
              "      <div>\n",
              "<style scoped>\n",
              "    .dataframe tbody tr th:only-of-type {\n",
              "        vertical-align: middle;\n",
              "    }\n",
              "\n",
              "    .dataframe tbody tr th {\n",
              "        vertical-align: top;\n",
              "    }\n",
              "\n",
              "    .dataframe thead th {\n",
              "        text-align: right;\n",
              "    }\n",
              "</style>\n",
              "<table border=\"1\" class=\"dataframe\">\n",
              "  <thead>\n",
              "    <tr style=\"text-align: right;\">\n",
              "      <th></th>\n",
              "      <th>pos</th>\n",
              "    </tr>\n",
              "  </thead>\n",
              "  <tbody>\n",
              "    <tr>\n",
              "      <th>count</th>\n",
              "      <td>7.000000</td>\n",
              "    </tr>\n",
              "    <tr>\n",
              "      <th>mean</th>\n",
              "      <td>3.978143</td>\n",
              "    </tr>\n",
              "    <tr>\n",
              "      <th>std</th>\n",
              "      <td>1.501687</td>\n",
              "    </tr>\n",
              "    <tr>\n",
              "      <th>min</th>\n",
              "      <td>1.661000</td>\n",
              "    </tr>\n",
              "    <tr>\n",
              "      <th>25%</th>\n",
              "      <td>3.183000</td>\n",
              "    </tr>\n",
              "    <tr>\n",
              "      <th>50%</th>\n",
              "      <td>3.907000</td>\n",
              "    </tr>\n",
              "    <tr>\n",
              "      <th>75%</th>\n",
              "      <td>4.976000</td>\n",
              "    </tr>\n",
              "    <tr>\n",
              "      <th>max</th>\n",
              "      <td>5.961000</td>\n",
              "    </tr>\n",
              "  </tbody>\n",
              "</table>\n",
              "</div>\n",
              "      <button class=\"colab-df-convert\" onclick=\"convertToInteractive('df-872e22cf-6c2e-42ab-8af4-006ef1326153')\"\n",
              "              title=\"Convert this dataframe to an interactive table.\"\n",
              "              style=\"display:none;\">\n",
              "        \n",
              "  <svg xmlns=\"http://www.w3.org/2000/svg\" height=\"24px\"viewBox=\"0 0 24 24\"\n",
              "       width=\"24px\">\n",
              "    <path d=\"M0 0h24v24H0V0z\" fill=\"none\"/>\n",
              "    <path d=\"M18.56 5.44l.94 2.06.94-2.06 2.06-.94-2.06-.94-.94-2.06-.94 2.06-2.06.94zm-11 1L8.5 8.5l.94-2.06 2.06-.94-2.06-.94L8.5 2.5l-.94 2.06-2.06.94zm10 10l.94 2.06.94-2.06 2.06-.94-2.06-.94-.94-2.06-.94 2.06-2.06.94z\"/><path d=\"M17.41 7.96l-1.37-1.37c-.4-.4-.92-.59-1.43-.59-.52 0-1.04.2-1.43.59L10.3 9.45l-7.72 7.72c-.78.78-.78 2.05 0 2.83L4 21.41c.39.39.9.59 1.41.59.51 0 1.02-.2 1.41-.59l7.78-7.78 2.81-2.81c.8-.78.8-2.07 0-2.86zM5.41 20L4 18.59l7.72-7.72 1.47 1.35L5.41 20z\"/>\n",
              "  </svg>\n",
              "      </button>\n",
              "      \n",
              "  <style>\n",
              "    .colab-df-container {\n",
              "      display:flex;\n",
              "      flex-wrap:wrap;\n",
              "      gap: 12px;\n",
              "    }\n",
              "\n",
              "    .colab-df-convert {\n",
              "      background-color: #E8F0FE;\n",
              "      border: none;\n",
              "      border-radius: 50%;\n",
              "      cursor: pointer;\n",
              "      display: none;\n",
              "      fill: #1967D2;\n",
              "      height: 32px;\n",
              "      padding: 0 0 0 0;\n",
              "      width: 32px;\n",
              "    }\n",
              "\n",
              "    .colab-df-convert:hover {\n",
              "      background-color: #E2EBFA;\n",
              "      box-shadow: 0px 1px 2px rgba(60, 64, 67, 0.3), 0px 1px 3px 1px rgba(60, 64, 67, 0.15);\n",
              "      fill: #174EA6;\n",
              "    }\n",
              "\n",
              "    [theme=dark] .colab-df-convert {\n",
              "      background-color: #3B4455;\n",
              "      fill: #D2E3FC;\n",
              "    }\n",
              "\n",
              "    [theme=dark] .colab-df-convert:hover {\n",
              "      background-color: #434B5C;\n",
              "      box-shadow: 0px 1px 3px 1px rgba(0, 0, 0, 0.15);\n",
              "      filter: drop-shadow(0px 1px 2px rgba(0, 0, 0, 0.3));\n",
              "      fill: #FFFFFF;\n",
              "    }\n",
              "  </style>\n",
              "\n",
              "      <script>\n",
              "        const buttonEl =\n",
              "          document.querySelector('#df-872e22cf-6c2e-42ab-8af4-006ef1326153 button.colab-df-convert');\n",
              "        buttonEl.style.display =\n",
              "          google.colab.kernel.accessAllowed ? 'block' : 'none';\n",
              "\n",
              "        async function convertToInteractive(key) {\n",
              "          const element = document.querySelector('#df-872e22cf-6c2e-42ab-8af4-006ef1326153');\n",
              "          const dataTable =\n",
              "            await google.colab.kernel.invokeFunction('convertToInteractive',\n",
              "                                                     [key], {});\n",
              "          if (!dataTable) return;\n",
              "\n",
              "          const docLinkHtml = 'Like what you see? Visit the ' +\n",
              "            '<a target=\"_blank\" href=https://colab.research.google.com/notebooks/data_table.ipynb>data table notebook</a>'\n",
              "            + ' to learn more about interactive tables.';\n",
              "          element.innerHTML = '';\n",
              "          dataTable['output_type'] = 'display_data';\n",
              "          await google.colab.output.renderOutput(dataTable, element);\n",
              "          const docLink = document.createElement('div');\n",
              "          docLink.innerHTML = docLinkHtml;\n",
              "          element.appendChild(docLink);\n",
              "        }\n",
              "      </script>\n",
              "    </div>\n",
              "  </div>\n",
              "  "
            ]
          },
          "metadata": {},
          "execution_count": 243
        }
      ]
    },
    {
      "cell_type": "code",
      "source": [
        "neg_df = playlist_df.groupby('month_year')['neg'].sum().to_frame()"
      ],
      "metadata": {
        "id": "7QGy0h1wl5IT"
      },
      "execution_count": null,
      "outputs": []
    },
    {
      "cell_type": "code",
      "source": [
        "neu_df = playlist_df.groupby('month_year')['neu'].sum().to_frame()"
      ],
      "metadata": {
        "id": "bKHu6WZhl9nt"
      },
      "execution_count": null,
      "outputs": []
    },
    {
      "cell_type": "code",
      "source": [
        "neu_df.describe()"
      ],
      "metadata": {
        "colab": {
          "base_uri": "https://localhost:8080/",
          "height": 300
        },
        "id": "9QltAQoFoNjS",
        "outputId": "416b6cd1-d99f-44dd-e56d-4746eed466f3"
      },
      "execution_count": null,
      "outputs": [
        {
          "output_type": "execute_result",
          "data": {
            "text/plain": [
              "             neu\n",
              "count   7.000000\n",
              "mean   20.211286\n",
              "std     7.003949\n",
              "min     7.835000\n",
              "25%    17.541500\n",
              "50%    21.995000\n",
              "75%    23.050500\n",
              "max    30.465000"
            ],
            "text/html": [
              "\n",
              "  <div id=\"df-c99c3446-1792-463c-9325-50b515fc827a\">\n",
              "    <div class=\"colab-df-container\">\n",
              "      <div>\n",
              "<style scoped>\n",
              "    .dataframe tbody tr th:only-of-type {\n",
              "        vertical-align: middle;\n",
              "    }\n",
              "\n",
              "    .dataframe tbody tr th {\n",
              "        vertical-align: top;\n",
              "    }\n",
              "\n",
              "    .dataframe thead th {\n",
              "        text-align: right;\n",
              "    }\n",
              "</style>\n",
              "<table border=\"1\" class=\"dataframe\">\n",
              "  <thead>\n",
              "    <tr style=\"text-align: right;\">\n",
              "      <th></th>\n",
              "      <th>neu</th>\n",
              "    </tr>\n",
              "  </thead>\n",
              "  <tbody>\n",
              "    <tr>\n",
              "      <th>count</th>\n",
              "      <td>7.000000</td>\n",
              "    </tr>\n",
              "    <tr>\n",
              "      <th>mean</th>\n",
              "      <td>20.211286</td>\n",
              "    </tr>\n",
              "    <tr>\n",
              "      <th>std</th>\n",
              "      <td>7.003949</td>\n",
              "    </tr>\n",
              "    <tr>\n",
              "      <th>min</th>\n",
              "      <td>7.835000</td>\n",
              "    </tr>\n",
              "    <tr>\n",
              "      <th>25%</th>\n",
              "      <td>17.541500</td>\n",
              "    </tr>\n",
              "    <tr>\n",
              "      <th>50%</th>\n",
              "      <td>21.995000</td>\n",
              "    </tr>\n",
              "    <tr>\n",
              "      <th>75%</th>\n",
              "      <td>23.050500</td>\n",
              "    </tr>\n",
              "    <tr>\n",
              "      <th>max</th>\n",
              "      <td>30.465000</td>\n",
              "    </tr>\n",
              "  </tbody>\n",
              "</table>\n",
              "</div>\n",
              "      <button class=\"colab-df-convert\" onclick=\"convertToInteractive('df-c99c3446-1792-463c-9325-50b515fc827a')\"\n",
              "              title=\"Convert this dataframe to an interactive table.\"\n",
              "              style=\"display:none;\">\n",
              "        \n",
              "  <svg xmlns=\"http://www.w3.org/2000/svg\" height=\"24px\"viewBox=\"0 0 24 24\"\n",
              "       width=\"24px\">\n",
              "    <path d=\"M0 0h24v24H0V0z\" fill=\"none\"/>\n",
              "    <path d=\"M18.56 5.44l.94 2.06.94-2.06 2.06-.94-2.06-.94-.94-2.06-.94 2.06-2.06.94zm-11 1L8.5 8.5l.94-2.06 2.06-.94-2.06-.94L8.5 2.5l-.94 2.06-2.06.94zm10 10l.94 2.06.94-2.06 2.06-.94-2.06-.94-.94-2.06-.94 2.06-2.06.94z\"/><path d=\"M17.41 7.96l-1.37-1.37c-.4-.4-.92-.59-1.43-.59-.52 0-1.04.2-1.43.59L10.3 9.45l-7.72 7.72c-.78.78-.78 2.05 0 2.83L4 21.41c.39.39.9.59 1.41.59.51 0 1.02-.2 1.41-.59l7.78-7.78 2.81-2.81c.8-.78.8-2.07 0-2.86zM5.41 20L4 18.59l7.72-7.72 1.47 1.35L5.41 20z\"/>\n",
              "  </svg>\n",
              "      </button>\n",
              "      \n",
              "  <style>\n",
              "    .colab-df-container {\n",
              "      display:flex;\n",
              "      flex-wrap:wrap;\n",
              "      gap: 12px;\n",
              "    }\n",
              "\n",
              "    .colab-df-convert {\n",
              "      background-color: #E8F0FE;\n",
              "      border: none;\n",
              "      border-radius: 50%;\n",
              "      cursor: pointer;\n",
              "      display: none;\n",
              "      fill: #1967D2;\n",
              "      height: 32px;\n",
              "      padding: 0 0 0 0;\n",
              "      width: 32px;\n",
              "    }\n",
              "\n",
              "    .colab-df-convert:hover {\n",
              "      background-color: #E2EBFA;\n",
              "      box-shadow: 0px 1px 2px rgba(60, 64, 67, 0.3), 0px 1px 3px 1px rgba(60, 64, 67, 0.15);\n",
              "      fill: #174EA6;\n",
              "    }\n",
              "\n",
              "    [theme=dark] .colab-df-convert {\n",
              "      background-color: #3B4455;\n",
              "      fill: #D2E3FC;\n",
              "    }\n",
              "\n",
              "    [theme=dark] .colab-df-convert:hover {\n",
              "      background-color: #434B5C;\n",
              "      box-shadow: 0px 1px 3px 1px rgba(0, 0, 0, 0.15);\n",
              "      filter: drop-shadow(0px 1px 2px rgba(0, 0, 0, 0.3));\n",
              "      fill: #FFFFFF;\n",
              "    }\n",
              "  </style>\n",
              "\n",
              "      <script>\n",
              "        const buttonEl =\n",
              "          document.querySelector('#df-c99c3446-1792-463c-9325-50b515fc827a button.colab-df-convert');\n",
              "        buttonEl.style.display =\n",
              "          google.colab.kernel.accessAllowed ? 'block' : 'none';\n",
              "\n",
              "        async function convertToInteractive(key) {\n",
              "          const element = document.querySelector('#df-c99c3446-1792-463c-9325-50b515fc827a');\n",
              "          const dataTable =\n",
              "            await google.colab.kernel.invokeFunction('convertToInteractive',\n",
              "                                                     [key], {});\n",
              "          if (!dataTable) return;\n",
              "\n",
              "          const docLinkHtml = 'Like what you see? Visit the ' +\n",
              "            '<a target=\"_blank\" href=https://colab.research.google.com/notebooks/data_table.ipynb>data table notebook</a>'\n",
              "            + ' to learn more about interactive tables.';\n",
              "          element.innerHTML = '';\n",
              "          dataTable['output_type'] = 'display_data';\n",
              "          await google.colab.output.renderOutput(dataTable, element);\n",
              "          const docLink = document.createElement('div');\n",
              "          docLink.innerHTML = docLinkHtml;\n",
              "          element.appendChild(docLink);\n",
              "        }\n",
              "      </script>\n",
              "    </div>\n",
              "  </div>\n",
              "  "
            ]
          },
          "metadata": {},
          "execution_count": 246
        }
      ]
    },
    {
      "cell_type": "code",
      "source": [
        "# Find the general sentiment behind a specific artists based upon the tracks they put out\n",
        "# Drake - Mostly Sad Music .66"
      ],
      "metadata": {
        "id": "xQ22B7J-swy3"
      },
      "execution_count": null,
      "outputs": []
    },
    {
      "cell_type": "markdown",
      "source": [
        "Find The Type of Music You Listen to over time"
      ],
      "metadata": {
        "id": "FFsG3oLSsuTN"
      }
    },
    {
      "cell_type": "code",
      "source": [
        "import matplotlib.pyplot as plt\n",
        "import math\n",
        "from matplotlib.pyplot import figure"
      ],
      "metadata": {
        "id": "6-Rl1AIGwNIO"
      },
      "execution_count": null,
      "outputs": []
    },
    {
      "cell_type": "code",
      "source": [
        "\"\"\"Radar Chart\"\"\"\n",
        " \n",
        "# number of variable\n",
        "categories= month_years\n",
        "N = len(categories)\n",
        " \n",
        "# What will be the angle of each axis in the plot? (we divide the plot / number of variable)\n",
        "angles = [n / float(N) * 2 * math.pi for n in range(N)]\n",
        "angles += angles[:1]\n",
        " \n",
        "# Initialise the spider plot\n",
        "ax = plt.subplot(111, polar=True)\n",
        " \n",
        "# If you want the first axis to be on top:\n",
        "ax.set_theta_offset(math.pi / 2)\n",
        "ax.set_theta_direction(-1)\n",
        " \n",
        "# Draw one axe per variable + add labels\n",
        "plt.xticks(angles[:-1], categories)\n",
        " \n",
        "# Draw ylabels\n",
        "ax.set_rlabel_position(0)\n",
        "plt.yticks([0,5,10], [\"0\",\"5\",\"10\"], color=\"grey\", size=7)\n",
        "plt.ylim(0,10)\n",
        " \n",
        "\n",
        "# ------- PART 2: Add plots\n",
        " \n",
        "# Plot each individual = each line of the data\n",
        "# I don't make a loop, because plotting more than 3 groups makes the chart unreadable\n",
        " \n",
        "# Ind1\n",
        "values=pos_df['pos'].to_list()\n",
        "values += values[:1]\n",
        "ax.plot(angles, values, linewidth=1, linestyle='solid', label=\"Positive\")\n",
        "ax.fill(angles, values, 'b', alpha=0.1)\n",
        " \n",
        "# Ind2\n",
        "values=neg_df['neg'].to_list()\n",
        "values += values[:1]\n",
        "ax.plot(angles, values, linewidth=1, linestyle='solid', label=\"Negative\")\n",
        "ax.fill(angles, values, 'r', alpha=0.1)\n",
        " \n",
        "# Add legend\n",
        "plt.legend(loc='upper right', bbox_to_anchor=(0.1, 0.1))\n",
        "plt.gcf().set_size_inches(10, 20)\n",
        "\n",
        "# Show the graph\n",
        "plt.show()"
      ],
      "metadata": {
        "colab": {
          "base_uri": "https://localhost:8080/",
          "height": 608
        },
        "id": "Wz8avGiZvrpV",
        "outputId": "33b486e9-1034-40c7-ebc6-f27ed1917fde"
      },
      "execution_count": null,
      "outputs": [
        {
          "output_type": "display_data",
          "data": {
            "text/plain": [
              "<Figure size 720x1440 with 1 Axes>"
            ],
            "image/png": "[encoded data removed]"
          },
          "metadata": {}
        }
      ]
    },
    {
      "cell_type": "code",
      "source": [
        "# Pie chart\n",
        "pie_counts = playlist_df['overall_sentiment'].value_counts().to_list()\n",
        "labels = ['Positive', 'Negative', 'Neutral']\n",
        "\n",
        "fig, ax = plt.subplots()\n",
        "ax.pie(pie_counts, labels=labels, autopct='%1.1f%%',\n",
        "       colors=['green','red', 'grey'])"
      ],
      "metadata": {
        "colab": {
          "base_uri": "https://localhost:8080/",
          "height": 404
        },
        "id": "1OyXsKiVYOLZ",
        "outputId": "cf3cf762-2ec9-4d5f-a5be-b95ff478d227"
      },
      "execution_count": null,
      "outputs": [
        {
          "output_type": "execute_result",
          "data": {
            "text/plain": [
              "([<matplotlib.patches.Wedge at 0x7f53e2bf4670>,\n",
              "  <matplotlib.patches.Wedge at 0x7f53e2bf4b20>,\n",
              "  <matplotlib.patches.Wedge at 0x7f53e2bc51f0>],\n",
              " [Text(-0.5875052957081484, 0.9299664120358764, 'Positive'),\n",
              "  Text(0.5226724580962313, -0.9678912653535228, 'Negative'),\n",
              "  Text(1.0974356345931857, -0.07506682306486655, 'Neutral')],\n",
              " [Text(-0.32045743402262633, 0.5072544065650234, '67.9%'),\n",
              "  Text(0.28509406805248977, -0.5279406901928305, '29.9%'),\n",
              "  Text(0.5986012552326467, -0.04094553985356356, '2.2%')])"
            ]
          },
          "metadata": {},
          "execution_count": 250
        },
        {
          "output_type": "display_data",
          "data": {
            "text/plain": [
              "<Figure size 432x288 with 1 Axes>"
            ],
            "image/png": "[encoded data removed]"
          },
          "metadata": {}
        }
      ]
    },
    {
      "cell_type": "markdown",
      "source": [
        "# Search Artist Songs (Exercise)"
      ],
      "metadata": {
        "id": "EvK0nrzc4otH"
      }
    },
    {
      "cell_type": "code",
      "source": [
        "def find_artist_songs(artist_name):\n",
        "  \"\"\"Method to find top tracks for specific artist -> Returns artist name and list of top songs\"\"\"\n",
        "  songs = []\n",
        "  artist_name_modified = artist_name.replace(' ', '+')\n",
        "  user_tracks_response = requests.get(f\"https://api.spotify.com/v1/search?q={artist_name_modified}&type=artist\", params=user_params, headers=user_headers)\n",
        "  id = user_tracks_response.json()['artists']['items'][0]['id']# Grabs artist id\n",
        "\n",
        "  top_tracks = requests.get(f'https://api.spotify.com/v1/artists/{id}/top-tracks?market=US', headers=user_headers) # Get artists' top tracks\n",
        "  for i in range(5):\n",
        "    songs.append(top_tracks.json()['tracks'][i]['name'])\n",
        "\n",
        "  return artist_name, songs"
      ],
      "metadata": {
        "id": "hCB3VQFp4wiz"
      },
      "execution_count": null,
      "outputs": []
    },
    {
      "cell_type": "code",
      "source": [
        "artist, songs = find_artist_songs(\"Childish Gambino\")"
      ],
      "metadata": {
        "id": "pqaPbtPX_DbB"
      },
      "execution_count": null,
      "outputs": []
    },
    {
      "cell_type": "code",
      "source": [
        "def radar_chart(pos_list, neg_list, labels):\n",
        "  \"\"\"Radar Chart\"\"\"\n",
        "  \n",
        "  # number of variable\n",
        "  categories= labels\n",
        "  N = len(categories)\n",
        "  \n",
        "  # What will be the angle of each axis in the plot? (we divide the plot / number of variable)\n",
        "  angles = [n / float(N) * 2 * math.pi for n in range(N)]\n",
        "  angles += angles[:1]\n",
        "  \n",
        "  # Initialise the spider plot\n",
        "  ax = plt.subplot(111, polar=True)\n",
        "  \n",
        "  # If you want the first axis to be on top:\n",
        "  ax.set_theta_offset(math.pi / 2)\n",
        "  ax.set_theta_direction(-1)\n",
        "  \n",
        "  # Draw one axe per variable + add labels\n",
        "  plt.xticks(angles[:-1], categories)\n",
        "  \n",
        "  # Draw ylabels\n",
        "  ax.set_rlabel_position(0)\n",
        "  plt.yticks([0,0.5,1], [\"0\",\"0.5\",\"1\"], color=\"grey\", size=7)\n",
        "  plt.ylim(0,0.5)\n",
        "  \n",
        "\n",
        "  # ------- PART 2: Add plots\n",
        "  \n",
        "  # Plot each individual = each line of the data\n",
        "  # I don't make a loop, because plotting more than 3 groups makes the chart unreadable\n",
        "  \n",
        "  # Ind1\n",
        "  values=pos_list[:]\n",
        "  values += values[:1]\n",
        "  ax.plot(angles, values, linewidth=1, linestyle='solid', label=\"Positive\")\n",
        "  ax.fill(angles, values, 'b', alpha=0.1)\n",
        "  \n",
        "  # Ind2\n",
        "  values=neg_list[:]\n",
        "  values += values[:1]\n",
        "  ax.plot(angles, values, linewidth=1, linestyle='solid', label=\"Negative\")\n",
        "  ax.fill(angles, values, 'r', alpha=0.1)\n",
        "  \n",
        "  # Add legend\n",
        "  plt.legend(loc='upper right', bbox_to_anchor=(0.1, 0.1))\n",
        "  plt.gcf().set_size_inches(10, 20)\n",
        "\n",
        "  # Show the graph\n",
        "  plt.show()"
      ],
      "metadata": {
        "id": "ar91zsNEEif2"
      },
      "execution_count": null,
      "outputs": []
    },
    {
      "cell_type": "code",
      "source": [
        "def make_chart(artist, songs):\n",
        "  pos_list = []\n",
        "  neg_list = []\n",
        "  lyric_list = []\n",
        "  for i in range(len(songs)):\n",
        "    song = songs[i]\n",
        "    try:\n",
        "      # Retrieve lyrics\n",
        "      lyrics = make_song_request(song, artist)\n",
        "    except:\n",
        "      # Assign them to null value if we can't retrieve lyrics \n",
        "      list_of_lyrics.append(None)\n",
        "      pos_list.append(None)\n",
        "      neg_list.append(None)\n",
        "      continue\n",
        "    \n",
        "    # Sentiment Analysis\n",
        "    sentiment_score = analyser.polarity_scores(lyrics)\n",
        "    pos = sentiment_score['pos']\n",
        "    neg = sentiment_score['neg']\n",
        "\n",
        "    pos_list.append(pos)\n",
        "    neg_list.append(neg)\n",
        "    lyric_list.append(lyrics)\n",
        "\n",
        "  # Radar chart functionality\n",
        "  radar_chart(pos_list, neg_list, songs)"
      ],
      "metadata": {
        "id": "qOPC9md1KFR6"
      },
      "execution_count": null,
      "outputs": []
    },
    {
      "cell_type": "code",
      "source": [
        "make_chart(artist, songs) # Creates your own radar chart"
      ],
      "metadata": {
        "colab": {
          "base_uri": "https://localhost:8080/",
          "height": 608
        },
        "id": "_fL5wzUkKq71",
        "outputId": "71d01386-8142-41ad-da90-c278d7279d76"
      },
      "execution_count": null,
      "outputs": [
        {
          "output_type": "display_data",
          "data": {
            "text/plain": [
              "<Figure size 720x1440 with 1 Axes>"
            ],
            "image/png": "[encoded data removed]"
          },
          "metadata": {}
        }
      ]
    },
    {
      "cell_type": "code",
      "source": [],
      "metadata": {
        "id": "NBRfHuqfJxNT"
      },
      "execution_count": null,
      "outputs": []
    }
  ]
}